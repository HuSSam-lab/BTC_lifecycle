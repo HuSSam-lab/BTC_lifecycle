{
 "cells": [
  {
   "cell_type": "code",
   "execution_count": 96,
   "metadata": {},
   "outputs": [],
   "source": [
    "import pandas as pd\n"
   ]
  },
  {
   "cell_type": "code",
   "execution_count": 118,
   "metadata": {},
   "outputs": [],
   "source": [
    "r_WW = pd.read_csv('F:/Prjoects/BTC/04 US daily stock market prediction/Sources Collected/Trend/BTC Trend worldWide.csv',header=1)\n",
    "r_US = pd.read_csv('F:/Prjoects/BTC/04 US daily stock market prediction/Sources Collected/Trend/BTC Trend US.csv',header=1)\n",
    "r_GR = pd.read_csv('F:/Prjoects/BTC/04 US daily stock market prediction/Sources Collected/Trend/BTC Trend Germany.csv',header=1)\n",
    "r_UAE = pd.read_csv('F:/Prjoects/BTC/04 US daily stock market prediction/Sources Collected/Trend/BTC Trend UAE.csv',header=1)\n",
    "r_dubai = pd.read_csv('F:/Prjoects/BTC/04 US daily stock market prediction/Sources Collected/Trend/BTC Trend Dubai.csv',header=1)"
   ]
  },
  {
   "cell_type": "code",
   "execution_count": 119,
   "metadata": {},
   "outputs": [],
   "source": [
    "r_US.drop(['Month'], axis = 1, inplace=True)\n",
    "r_GR.drop(['Month'], axis = 1, inplace=True)\n",
    "r_UAE.drop(['Month'], axis = 1, inplace=True)\n",
    "r_dubai.drop(['Month'], axis = 1, inplace=True)"
   ]
  },
  {
   "cell_type": "code",
   "execution_count": 136,
   "metadata": {},
   "outputs": [],
   "source": [
    "df = pd.concat([r_WW, r_US, r_GR, r_UAE, r_dubai],axis=1)"
   ]
  },
  {
   "cell_type": "code",
   "execution_count": 137,
   "metadata": {},
   "outputs": [
    {
     "name": "stderr",
     "output_type": "stream",
     "text": [
      "C:\\Users\\hussam\\AppData\\Local\\Temp\\ipykernel_22928\\843118955.py:7: SettingWithCopyWarning: \n",
      "A value is trying to be set on a copy of a slice from a DataFrame\n",
      "\n",
      "See the caveats in the documentation: https://pandas.pydata.org/pandas-docs/stable/user_guide/indexing.html#returning-a-view-versus-a-copy\n",
      "  df[to].replace('<1',0,inplace=True)\n"
     ]
    }
   ],
   "source": [
    "\n",
    "to = ['date','worldwide', 'unitedstates', 'Germany', 'UAE', 'Dubai']\n",
    "\n",
    "# df[to] = df\n",
    "\n",
    "df = df.set_axis(to,axis = 1)\n",
    "to.remove('date')\n",
    "df[to].replace('<1',0,inplace=True)\n",
    "\n",
    "\n",
    "df.to_csv('Scripts out/Google Trend.csv')\n"
   ]
  },
  {
   "cell_type": "code",
   "execution_count": 124,
   "metadata": {},
   "outputs": [
    {
     "data": {
      "text/html": [
       "<div>\n",
       "<style scoped>\n",
       "    .dataframe tbody tr th:only-of-type {\n",
       "        vertical-align: middle;\n",
       "    }\n",
       "\n",
       "    .dataframe tbody tr th {\n",
       "        vertical-align: top;\n",
       "    }\n",
       "\n",
       "    .dataframe thead th {\n",
       "        text-align: right;\n",
       "    }\n",
       "</style>\n",
       "<table border=\"1\" class=\"dataframe\">\n",
       "  <thead>\n",
       "    <tr style=\"text-align: right;\">\n",
       "      <th></th>\n",
       "      <th>date</th>\n",
       "      <th>worldwide</th>\n",
       "      <th>unitedstates</th>\n",
       "      <th>Germany</th>\n",
       "      <th>UAE</th>\n",
       "      <th>Dubai</th>\n",
       "    </tr>\n",
       "  </thead>\n",
       "  <tbody>\n",
       "    <tr>\n",
       "      <th>0</th>\n",
       "      <td>2004-01</td>\n",
       "      <td>1</td>\n",
       "      <td>&lt;1</td>\n",
       "      <td>3</td>\n",
       "      <td>0</td>\n",
       "      <td>0</td>\n",
       "    </tr>\n",
       "    <tr>\n",
       "      <th>1</th>\n",
       "      <td>2004-02</td>\n",
       "      <td>1</td>\n",
       "      <td>&lt;1</td>\n",
       "      <td>2</td>\n",
       "      <td>0</td>\n",
       "      <td>0</td>\n",
       "    </tr>\n",
       "    <tr>\n",
       "      <th>2</th>\n",
       "      <td>2004-03</td>\n",
       "      <td>1</td>\n",
       "      <td>&lt;1</td>\n",
       "      <td>2</td>\n",
       "      <td>0</td>\n",
       "      <td>0</td>\n",
       "    </tr>\n",
       "    <tr>\n",
       "      <th>3</th>\n",
       "      <td>2004-04</td>\n",
       "      <td>1</td>\n",
       "      <td>&lt;1</td>\n",
       "      <td>1</td>\n",
       "      <td>0</td>\n",
       "      <td>0</td>\n",
       "    </tr>\n",
       "    <tr>\n",
       "      <th>4</th>\n",
       "      <td>2004-05</td>\n",
       "      <td>1</td>\n",
       "      <td>&lt;1</td>\n",
       "      <td>1</td>\n",
       "      <td>0</td>\n",
       "      <td>0</td>\n",
       "    </tr>\n",
       "  </tbody>\n",
       "</table>\n",
       "</div>"
      ],
      "text/plain": [
       "      date worldwide unitedstates Germany UAE Dubai\n",
       "0  2004-01         1           <1       3   0     0\n",
       "1  2004-02         1           <1       2   0     0\n",
       "2  2004-03         1           <1       2   0     0\n",
       "3  2004-04         1           <1       1   0     0\n",
       "4  2004-05         1           <1       1   0     0"
      ]
     },
     "execution_count": 124,
     "metadata": {},
     "output_type": "execute_result"
    }
   ],
   "source": [
    "df.head()"
   ]
  },
  {
   "cell_type": "code",
   "execution_count": 102,
   "metadata": {},
   "outputs": [
    {
     "data": {
      "text/plain": [
       "array(['1', '<1', '3', '8', '2', '4', '11', '12', '10', '7', '5', '6',\n",
       "       '17', '16', '14', '21', '23', '24', '40', '100', '60', '43', '20',\n",
       "       '13', '15', '9', '19', '22', '72', '18', '26', '35', '67', '69',\n",
       "       '51', '54', '70', '34', '36', '41', '37', '38', '47', '27', '39',\n",
       "       '46', '28', '33', '31', '30'], dtype=object)"
      ]
     },
     "execution_count": 102,
     "metadata": {},
     "output_type": "execute_result"
    }
   ],
   "source": [
    "df['Bitcoin: (Worldwide)'].unique()"
   ]
  },
  {
   "cell_type": "code",
   "execution_count": null,
   "metadata": {},
   "outputs": [],
   "source": []
  }
 ],
 "metadata": {
  "kernelspec": {
   "display_name": "Python 3",
   "language": "python",
   "name": "python3"
  },
  "language_info": {
   "codemirror_mode": {
    "name": "ipython",
    "version": 3
   },
   "file_extension": ".py",
   "mimetype": "text/x-python",
   "name": "python",
   "nbconvert_exporter": "python",
   "pygments_lexer": "ipython3",
   "version": "3.10.1"
  }
 },
 "nbformat": 4,
 "nbformat_minor": 2
}
