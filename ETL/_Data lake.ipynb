{
 "cells": [
  {
   "cell_type": "code",
   "execution_count": 1,
   "metadata": {},
   "outputs": [],
   "source": [
    "import pandas as pd\n"
   ]
  },
  {
   "cell_type": "markdown",
   "metadata": {},
   "source": [
    "### Why i use perquet file as a Data lake\n",
    "* me data lake is very small and i think perquet is enough\n",
    "* i will need i the future to using mahine learning so i will need ELT"
   ]
  },
  {
   "cell_type": "code",
   "execution_count": 2,
   "metadata": {},
   "outputs": [],
   "source": [
    "## storing the sources file before transforming it (ELT)\n",
    "twitter_raw = pd.read_csv('Sources Files/Bitcoin_tweets.csv', nrows=500)\n",
    "\n",
    "ada_raw = pd.read_csv('Sources Files/OHLCV_Binance_ADA-USDT_D20180417T040200UTC-D20240404T115959UTC_1min.csv')\n",
    "bnb_raw = pd.read_csv('Sources Files/OHLCV_Binance_BNB-USDT_D20171106T035400UTC-D20240404T115959UTC_1min.csv')\n",
    "eth_raw = pd.read_csv('Sources Files/OHLCV_Binance_ETH-USDT_D20170817T040000UTC-D20240404T115959UTC_1min.csv')\n",
    "sol_raw = pd.read_csv('Sources Files/OHLCV_Binance_SOL-USDT_D20200811T060000UTC-D20240404T115959UTC_1min.csv')\n",
    "XRP_raw = pd.read_csv('Sources Files/OHLCV_Binance_XRP-USDT_D20180504T081100UTC-D20240404T115959UTC_1min.csv')\n",
    "\n",
    "btc_raw = pd.read_csv('Sources Files/bitcoin_2010-07-27_2024-04-25.csv')\n",
    "\n",
    "\n",
    "t_dubai_raw = pd.read_csv('Sources Files/Trend/BTC Trend Dubai.csv')\n",
    "t_germany_raw = pd.read_csv('Sources Files/Trend/BTC Trend Germany.csv')\n",
    "t_uae_raw = pd.read_csv('Sources Files/Trend/BTC Trend UAE.csv')\n",
    "t_us_raw = pd.read_csv('Sources Files/Trend/BTC Trend US.csv')\n",
    "t_ww_raw = pd.read_csv('Sources Files/Trend/BTC Trend worldWide.csv')\n"
   ]
  },
  {
   "cell_type": "code",
   "execution_count": 5,
   "metadata": {},
   "outputs": [],
   "source": [
    "twitter_raw.to_parquet('(ELT) Data lake/twitter.parquet')\n",
    "\n",
    "ada_raw.to_parquet('(ELT) Data lake/curr/ada.parquet')\n",
    "bnb_raw.to_parquet('(ELT) Data lake/curr/bnb.parquet')\n",
    "eth_raw.to_parquet('(ELT) Data lake/curr/eth.parquet')\n",
    "sol_raw.to_parquet('(ELT) Data lake/curr/sol.parquet')\n",
    "XRP_raw.to_parquet('(ELT) Data lake/curr/xrp.parquet')\n",
    "\n",
    "btc_raw.to_parquet('(ELT) Data lake/curr/btc.parquet')\n",
    "\n",
    "t_dubai_raw.to_parquet('(ELT) Data lake/trend/dubai.parquet')\n",
    "t_germany_raw.to_parquet('(ELT) Data lake/trend/germany.parquet')\n",
    "t_uae_raw.to_parquet('(ELT) Data lake/trend/uae.parquet')\n",
    "t_us_raw.to_parquet('(ELT) Data lake/trend/us.parquet')\n",
    "t_ww_raw.to_parquet('(ELT) Data lake/trend/ww.parquet')\n",
    "\n"
   ]
  }
 ],
 "metadata": {
  "kernelspec": {
   "display_name": "Python 3",
   "language": "python",
   "name": "python3"
  },
  "language_info": {
   "codemirror_mode": {
    "name": "ipython",
    "version": 3
   },
   "file_extension": ".py",
   "mimetype": "text/x-python",
   "name": "python",
   "nbconvert_exporter": "python",
   "pygments_lexer": "ipython3",
   "version": "3.10.1"
  }
 },
 "nbformat": 4,
 "nbformat_minor": 2
}
