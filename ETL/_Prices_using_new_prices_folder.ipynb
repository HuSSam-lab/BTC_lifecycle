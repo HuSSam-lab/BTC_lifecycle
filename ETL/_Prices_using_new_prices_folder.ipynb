{
 "cells": [
  {
   "cell_type": "code",
   "execution_count": 52,
   "metadata": {},
   "outputs": [],
   "source": [
    "import pandas as pd"
   ]
  },
  {
   "cell_type": "code",
   "execution_count": 53,
   "metadata": {},
   "outputs": [
    {
     "data": {
      "text/html": [
       "<div>\n",
       "<style scoped>\n",
       "    .dataframe tbody tr th:only-of-type {\n",
       "        vertical-align: middle;\n",
       "    }\n",
       "\n",
       "    .dataframe tbody tr th {\n",
       "        vertical-align: top;\n",
       "    }\n",
       "\n",
       "    .dataframe thead th {\n",
       "        text-align: right;\n",
       "    }\n",
       "</style>\n",
       "<table border=\"1\" class=\"dataframe\">\n",
       "  <thead>\n",
       "    <tr style=\"text-align: right;\">\n",
       "      <th></th>\n",
       "      <th>date</th>\n",
       "      <th>High</th>\n",
       "      <th>Low</th>\n",
       "      <th>Volume</th>\n",
       "    </tr>\n",
       "  </thead>\n",
       "  <tbody>\n",
       "    <tr>\n",
       "      <th>0</th>\n",
       "      <td>2024-05-15</td>\n",
       "      <td>66390.00</td>\n",
       "      <td>61404.32</td>\n",
       "      <td>1.003509e+11</td>\n",
       "    </tr>\n",
       "    <tr>\n",
       "      <th>1</th>\n",
       "      <td>2024-05-14</td>\n",
       "      <td>63053.02</td>\n",
       "      <td>61157.62</td>\n",
       "      <td>9.684300e+10</td>\n",
       "    </tr>\n",
       "  </tbody>\n",
       "</table>\n",
       "</div>"
      ],
      "text/plain": [
       "        date      High       Low        Volume\n",
       "0 2024-05-15  66390.00  61404.32  1.003509e+11\n",
       "1 2024-05-14  63053.02  61157.62  9.684300e+10"
      ]
     },
     "execution_count": 53,
     "metadata": {},
     "output_type": "execute_result"
    }
   ],
   "source": [
    "BTC = pd.read_csv(\"Sources Files/New Prices/BTC_2010-07-17_2024-05-16.csv\")\n",
    "BTC_features = ['Start', 'High', 'Low', 'Volume']\n",
    "BTC = BTC[BTC_features]\n",
    "BTC.rename(columns = {'Start' : 'date'}, inplace=True)\n",
    "BTC['date'] = pd.to_datetime(BTC['date'])\n",
    "BTC.head(2)"
   ]
  },
  {
   "cell_type": "code",
   "execution_count": 54,
   "metadata": {},
   "outputs": [],
   "source": [
    "ADA = pd.read_csv(\"Sources Files/New Prices/ADA_2017-10-01_2024-05-16.csv\")\n",
    "BNB = pd.read_csv(\"Sources Files/New Prices/BNB_2017-08-16_2024-05-16.csv\")\n",
    "ETH = pd.read_csv(\"Sources Files/New Prices/ETH_2015-08-07_2024-05-16.csv\")\n",
    "SOL = pd.read_csv(\"Sources Files/New Prices/SOL_2020-04-09_2024-05-16.csv\")\n",
    "XRP = pd.read_csv(\"Sources Files/New Prices/XRP_2013-08-16_2024-05-16.csv\")\n"
   ]
  },
  {
   "cell_type": "code",
   "execution_count": 55,
   "metadata": {},
   "outputs": [],
   "source": [
    "ADA['date'] = pd.to_datetime(ADA['Start'])\n",
    "BNB['date'] = pd.to_datetime(BNB['Start'])\n",
    "ETH['date'] = pd.to_datetime(ETH['Start'])\n",
    "SOL['date'] = pd.to_datetime(SOL['Start'])\n",
    "XRP['date'] = pd.to_datetime(XRP['Start'])"
   ]
  },
  {
   "cell_type": "code",
   "execution_count": 56,
   "metadata": {},
   "outputs": [],
   "source": [
    "features = ['date', 'High']"
   ]
  },
  {
   "cell_type": "code",
   "execution_count": 57,
   "metadata": {},
   "outputs": [],
   "source": [
    "\n",
    "for i,s in zip([ADA, BNB, ETH, SOL, XRP],['ADA', 'BNB', 'ETH', 'SOL', 'XRP']):\n",
    "    i[features].to_csv(f'''F:/Prjoects/BTC/04 US daily stock market prediction/ETL/Scripts out/{s}.csv''', index=1)"
   ]
  }
 ],
 "metadata": {
  "kernelspec": {
   "display_name": "Python 3",
   "language": "python",
   "name": "python3"
  },
  "language_info": {
   "codemirror_mode": {
    "name": "ipython",
    "version": 3
   },
   "file_extension": ".py",
   "mimetype": "text/x-python",
   "name": "python",
   "nbconvert_exporter": "python",
   "pygments_lexer": "ipython3",
   "version": "3.10.1"
  }
 },
 "nbformat": 4,
 "nbformat_minor": 2
}
