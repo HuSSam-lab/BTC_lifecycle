{
 "cells": [
  {
   "cell_type": "code",
   "execution_count": 1,
   "metadata": {},
   "outputs": [],
   "source": [
    "import pandas as pd\n"
   ]
  },
  {
   "cell_type": "code",
   "execution_count": 5,
   "metadata": {},
   "outputs": [
    {
     "data": {
      "text/html": [
       "<div>\n",
       "<style scoped>\n",
       "    .dataframe tbody tr th:only-of-type {\n",
       "        vertical-align: middle;\n",
       "    }\n",
       "\n",
       "    .dataframe tbody tr th {\n",
       "        vertical-align: top;\n",
       "    }\n",
       "\n",
       "    .dataframe thead th {\n",
       "        text-align: right;\n",
       "    }\n",
       "</style>\n",
       "<table border=\"1\" class=\"dataframe\">\n",
       "  <thead>\n",
       "    <tr style=\"text-align: right;\">\n",
       "      <th></th>\n",
       "      <th>status</th>\n",
       "      <th>data</th>\n",
       "    </tr>\n",
       "  </thead>\n",
       "  <tbody>\n",
       "    <tr>\n",
       "      <th>coins</th>\n",
       "      <td>success</td>\n",
       "      <td>[{'uuid': 'Qwsogvtv82FCd', 'symbol': 'BTC', 'n...</td>\n",
       "    </tr>\n",
       "    <tr>\n",
       "      <th>stats</th>\n",
       "      <td>success</td>\n",
       "      <td>{'total': 37810, 'totalCoins': 37810, 'totalMa...</td>\n",
       "    </tr>\n",
       "  </tbody>\n",
       "</table>\n",
       "</div>"
      ],
      "text/plain": [
       "        status                                               data\n",
       "coins  success  [{'uuid': 'Qwsogvtv82FCd', 'symbol': 'BTC', 'n...\n",
       "stats  success  {'total': 37810, 'totalCoins': 37810, 'totalMa..."
      ]
     },
     "execution_count": 5,
     "metadata": {},
     "output_type": "execute_result"
    }
   ],
   "source": [
    "raw_data = pd.read_json('Scripts out/RAW_API.json')\n",
    "df = raw_data\n",
    "df.head()"
   ]
  },
  {
   "cell_type": "code",
   "execution_count": 6,
   "metadata": {},
   "outputs": [
    {
     "data": {
      "text/plain": [
       "dict_keys(['uuid', 'symbol', 'name', 'color', 'iconUrl', 'marketCap', 'price', 'listedAt', 'tier', 'change', 'rank', 'sparkline', 'lowVolume', 'coinrankingUrl', '24hVolume', 'btcPrice', 'contractAddresses'])"
      ]
     },
     "execution_count": 6,
     "metadata": {},
     "output_type": "execute_result"
    }
   ],
   "source": [
    "dic = df['data'].to_dict()\n",
    "dic['coins'][0].keys()\n"
   ]
  },
  {
   "cell_type": "code",
   "execution_count": 33,
   "metadata": {},
   "outputs": [
    {
     "name": "stdout",
     "output_type": "stream",
     "text": [
      "Bitcoin\n",
      "63837.58053859415\n",
      "Ethereum\n",
      "3144.829783431362\n",
      "Tether USD\n",
      "1.0013287950416918\n",
      "BNB\n",
      "586.8300696456259\n",
      "Solana\n",
      "146.29481042725436\n",
      "USDC\n",
      "1.0008814513416486\n",
      "Lido Staked Ether\n",
      "3133.237914978969\n",
      "XRP\n",
      "0.5288937873799744\n",
      "Dogecoin\n",
      "0.1604541441526286\n",
      "Toncoin\n",
      "5.755605089838037\n",
      "Cardano\n",
      "0.4573139339038721\n",
      "Shiba Inu\n",
      "0.000024690646154424\n",
      "Avalanche\n",
      "36.94026511861041\n",
      "Wrapped liquid staked Ether 2.0\n",
      "3664.8208866094155\n",
      "TRON\n",
      "0.12125025454318769\n",
      "Wrapped BTC\n",
      "63677.00206760542\n",
      "Wrapped Ether\n",
      "3143.00388124465\n",
      "Polkadot\n",
      "7.072135815791079\n",
      "Bitcoin Cash\n",
      "463.84961448590985\n",
      "Chainlink\n",
      "14.276673190388461\n",
      "Polygon\n",
      "0.7326557804085431\n",
      "Uniswap\n",
      "7.428053529072906\n",
      "Internet Computer (DFINITY)\n",
      "12.902224084920197\n",
      "Litecoin\n",
      "81.07877282768918\n",
      "Fetch.AI\n",
      "2.205522650575907\n",
      "Dai\n",
      "0.9994440959198332\n",
      "Render Token\n",
      "9.340034855588705\n",
      "PancakeSwap\n",
      "2.67402251615285\n",
      "Immutable X\n",
      "2.2117121586953457\n",
      "First Digital USD\n",
      "1.0008719758431117\n",
      "NEAR Protocol\n",
      "7.113064835818474\n",
      "Ethereum Classic\n",
      "26.884821023842814\n",
      "Hedera\n",
      "0.10871311791005057\n",
      "PEPE\n",
      "0.000008485235281881\n",
      "Mantle\n",
      "1.0427940219251175\n",
      "Stacks\n",
      "2.3118084841278725\n",
      "dogwifhat\n",
      "3.3412964831443746\n",
      "Filecoin\n",
      "6.00943810879286\n",
      "OKB\n",
      "51.22116986982663\n",
      "Bittensor\n",
      "436.1030959655445\n",
      "Cosmos\n",
      "8.870565051059696\n",
      "Maker\n",
      "2914.237494359685\n",
      "VeChain\n",
      "0.0370297062607043\n",
      "The Graph\n",
      "0.27980627479866466\n",
      "Kaspa\n",
      "0.10775341495384182\n",
      "Arweave\n",
      "37.165263948310354\n",
      "Monero\n",
      "126.5877890964908\n",
      "USDe\n",
      "0.9988434374914371\n",
      "Stellar\n",
      "0.11023109437662394\n"
     ]
    }
   ],
   "source": [
    "coins = dic['coins']\n",
    "total_coins= 49\n",
    "for i in range(total_coins):\n",
    "    print(coins[i]['name'])\n",
    "    print(coins[i]['price'])\n"
   ]
  },
  {
   "cell_type": "code",
   "execution_count": 61,
   "metadata": {},
   "outputs": [],
   "source": [
    "di = {'Curr_name' : ['BTC','ETH'],'Value':[1516.16, 1561606]}\n",
    "di = pd.DataFrame(di)\n",
    "di.to_csv('deleteme.csv')\n",
    "# di = pd.Series(di)\n",
    "# di = di.to_frame().T\n",
    "# print(di)\n",
    "dd = pd.DataFrame(di)\n",
    "# dd.head()\n",
    "# dd.to_json('deleteme.json', index = 1)"
   ]
  },
  {
   "cell_type": "code",
   "execution_count": 64,
   "metadata": {},
   "outputs": [
    {
     "data": {
      "text/plain": [
       "str"
      ]
     },
     "execution_count": 64,
     "metadata": {},
     "output_type": "execute_result"
    }
   ],
   "source": [
    "\n",
    "raw_data = pd.read_csv('F:/Prjoects/BTC/04 US daily stock market prediction/ETL/Scripts out/clean_prices.csv')\\\n",
    "    \n",
    "type(raw_data['Curr_name'][0])"
   ]
  },
  {
   "cell_type": "code",
   "execution_count": null,
   "metadata": {},
   "outputs": [],
   "source": []
  }
 ],
 "metadata": {
  "kernelspec": {
   "display_name": "Python 3",
   "language": "python",
   "name": "python3"
  },
  "language_info": {
   "codemirror_mode": {
    "name": "ipython",
    "version": 3
   },
   "file_extension": ".py",
   "mimetype": "text/x-python",
   "name": "python",
   "nbconvert_exporter": "python",
   "pygments_lexer": "ipython3",
   "version": "3.10.1"
  }
 },
 "nbformat": 4,
 "nbformat_minor": 2
}
