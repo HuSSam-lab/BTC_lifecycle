{
 "cells": [
  {
   "cell_type": "code",
   "execution_count": 1,
   "metadata": {},
   "outputs": [],
   "source": [
    "import pandas as pd\n",
    "import numpy as np\n",
    "import matplotlib.pyplot as plt\n",
    "import seaborn as sns"
   ]
  },
  {
   "cell_type": "code",
   "execution_count": 2,
   "metadata": {},
   "outputs": [
    {
     "data": {
      "text/html": [
       "<div>\n",
       "<style scoped>\n",
       "    .dataframe tbody tr th:only-of-type {\n",
       "        vertical-align: middle;\n",
       "    }\n",
       "\n",
       "    .dataframe tbody tr th {\n",
       "        vertical-align: top;\n",
       "    }\n",
       "\n",
       "    .dataframe thead th {\n",
       "        text-align: right;\n",
       "    }\n",
       "</style>\n",
       "<table border=\"1\" class=\"dataframe\">\n",
       "  <thead>\n",
       "    <tr style=\"text-align: right;\">\n",
       "      <th></th>\n",
       "      <th>Start</th>\n",
       "      <th>End</th>\n",
       "      <th>Open</th>\n",
       "      <th>High</th>\n",
       "      <th>Low</th>\n",
       "      <th>Close</th>\n",
       "      <th>Volume</th>\n",
       "      <th>Market Cap</th>\n",
       "    </tr>\n",
       "  </thead>\n",
       "  <tbody>\n",
       "    <tr>\n",
       "      <th>0</th>\n",
       "      <td>2024-04-24</td>\n",
       "      <td>2024-04-25</td>\n",
       "      <td>66553.5400</td>\n",
       "      <td>67070.4000</td>\n",
       "      <td>63742.7300</td>\n",
       "      <td>64291.0700</td>\n",
       "      <td>1.384736e+11</td>\n",
       "      <td>1.294489e+12</td>\n",
       "    </tr>\n",
       "    <tr>\n",
       "      <th>1</th>\n",
       "      <td>2024-04-23</td>\n",
       "      <td>2024-04-24</td>\n",
       "      <td>66761.0200</td>\n",
       "      <td>67174.0200</td>\n",
       "      <td>65884.1500</td>\n",
       "      <td>66386.6100</td>\n",
       "      <td>1.408621e+11</td>\n",
       "      <td>1.308576e+12</td>\n",
       "    </tr>\n",
       "    <tr>\n",
       "      <th>2</th>\n",
       "      <td>2024-04-22</td>\n",
       "      <td>2024-04-23</td>\n",
       "      <td>64952.0200</td>\n",
       "      <td>67180.0300</td>\n",
       "      <td>64598.0000</td>\n",
       "      <td>66818.8900</td>\n",
       "      <td>1.400725e+11</td>\n",
       "      <td>1.299703e+12</td>\n",
       "    </tr>\n",
       "    <tr>\n",
       "      <th>3</th>\n",
       "      <td>2024-04-21</td>\n",
       "      <td>2024-04-22</td>\n",
       "      <td>64875.7500</td>\n",
       "      <td>65638.7400</td>\n",
       "      <td>64302.4700</td>\n",
       "      <td>64896.8700</td>\n",
       "      <td>1.326574e+11</td>\n",
       "      <td>1.278730e+12</td>\n",
       "    </tr>\n",
       "    <tr>\n",
       "      <th>4</th>\n",
       "      <td>2024-04-20</td>\n",
       "      <td>2024-04-21</td>\n",
       "      <td>63824.0600</td>\n",
       "      <td>65351.3300</td>\n",
       "      <td>63321.1900</td>\n",
       "      <td>64857.9900</td>\n",
       "      <td>1.537410e+11</td>\n",
       "      <td>1.263725e+12</td>\n",
       "    </tr>\n",
       "    <tr>\n",
       "      <th>...</th>\n",
       "      <td>...</td>\n",
       "      <td>...</td>\n",
       "      <td>...</td>\n",
       "      <td>...</td>\n",
       "      <td>...</td>\n",
       "      <td>...</td>\n",
       "      <td>...</td>\n",
       "      <td>...</td>\n",
       "    </tr>\n",
       "    <tr>\n",
       "      <th>5016</th>\n",
       "      <td>2010-07-31</td>\n",
       "      <td>2010-08-01</td>\n",
       "      <td>0.0679</td>\n",
       "      <td>0.0679</td>\n",
       "      <td>0.0679</td>\n",
       "      <td>0.0679</td>\n",
       "      <td>0.000000e+00</td>\n",
       "      <td>0.000000e+00</td>\n",
       "    </tr>\n",
       "    <tr>\n",
       "      <th>5017</th>\n",
       "      <td>2010-07-30</td>\n",
       "      <td>2010-07-31</td>\n",
       "      <td>0.0627</td>\n",
       "      <td>0.0627</td>\n",
       "      <td>0.0627</td>\n",
       "      <td>0.0627</td>\n",
       "      <td>0.000000e+00</td>\n",
       "      <td>0.000000e+00</td>\n",
       "    </tr>\n",
       "    <tr>\n",
       "      <th>5018</th>\n",
       "      <td>2010-07-29</td>\n",
       "      <td>2010-07-30</td>\n",
       "      <td>0.0699</td>\n",
       "      <td>0.0699</td>\n",
       "      <td>0.0699</td>\n",
       "      <td>0.0699</td>\n",
       "      <td>0.000000e+00</td>\n",
       "      <td>0.000000e+00</td>\n",
       "    </tr>\n",
       "    <tr>\n",
       "      <th>5019</th>\n",
       "      <td>2010-07-28</td>\n",
       "      <td>2010-07-29</td>\n",
       "      <td>0.0589</td>\n",
       "      <td>0.0589</td>\n",
       "      <td>0.0589</td>\n",
       "      <td>0.0589</td>\n",
       "      <td>0.000000e+00</td>\n",
       "      <td>0.000000e+00</td>\n",
       "    </tr>\n",
       "    <tr>\n",
       "      <th>5020</th>\n",
       "      <td>2010-07-27</td>\n",
       "      <td>2010-07-28</td>\n",
       "      <td>0.0600</td>\n",
       "      <td>0.0600</td>\n",
       "      <td>0.0600</td>\n",
       "      <td>0.0600</td>\n",
       "      <td>0.000000e+00</td>\n",
       "      <td>0.000000e+00</td>\n",
       "    </tr>\n",
       "  </tbody>\n",
       "</table>\n",
       "<p>5021 rows × 8 columns</p>\n",
       "</div>"
      ],
      "text/plain": [
       "           Start         End        Open        High         Low       Close   \n",
       "0     2024-04-24  2024-04-25  66553.5400  67070.4000  63742.7300  64291.0700  \\\n",
       "1     2024-04-23  2024-04-24  66761.0200  67174.0200  65884.1500  66386.6100   \n",
       "2     2024-04-22  2024-04-23  64952.0200  67180.0300  64598.0000  66818.8900   \n",
       "3     2024-04-21  2024-04-22  64875.7500  65638.7400  64302.4700  64896.8700   \n",
       "4     2024-04-20  2024-04-21  63824.0600  65351.3300  63321.1900  64857.9900   \n",
       "...          ...         ...         ...         ...         ...         ...   \n",
       "5016  2010-07-31  2010-08-01      0.0679      0.0679      0.0679      0.0679   \n",
       "5017  2010-07-30  2010-07-31      0.0627      0.0627      0.0627      0.0627   \n",
       "5018  2010-07-29  2010-07-30      0.0699      0.0699      0.0699      0.0699   \n",
       "5019  2010-07-28  2010-07-29      0.0589      0.0589      0.0589      0.0589   \n",
       "5020  2010-07-27  2010-07-28      0.0600      0.0600      0.0600      0.0600   \n",
       "\n",
       "            Volume    Market Cap  \n",
       "0     1.384736e+11  1.294489e+12  \n",
       "1     1.408621e+11  1.308576e+12  \n",
       "2     1.400725e+11  1.299703e+12  \n",
       "3     1.326574e+11  1.278730e+12  \n",
       "4     1.537410e+11  1.263725e+12  \n",
       "...            ...           ...  \n",
       "5016  0.000000e+00  0.000000e+00  \n",
       "5017  0.000000e+00  0.000000e+00  \n",
       "5018  0.000000e+00  0.000000e+00  \n",
       "5019  0.000000e+00  0.000000e+00  \n",
       "5020  0.000000e+00  0.000000e+00  \n",
       "\n",
       "[5021 rows x 8 columns]"
      ]
     },
     "execution_count": 2,
     "metadata": {},
     "output_type": "execute_result"
    }
   ],
   "source": [
    "raw_data = pd.read_csv(\"Sources Files/bitcoin_2010-07-27_2024-04-25.csv\")\n",
    "# raw_data"
   ]
  },
  {
   "cell_type": "code",
   "execution_count": 3,
   "metadata": {},
   "outputs": [
    {
     "data": {
      "text/html": [
       "<div>\n",
       "<style scoped>\n",
       "    .dataframe tbody tr th:only-of-type {\n",
       "        vertical-align: middle;\n",
       "    }\n",
       "\n",
       "    .dataframe tbody tr th {\n",
       "        vertical-align: top;\n",
       "    }\n",
       "\n",
       "    .dataframe thead th {\n",
       "        text-align: right;\n",
       "    }\n",
       "</style>\n",
       "<table border=\"1\" class=\"dataframe\">\n",
       "  <thead>\n",
       "    <tr style=\"text-align: right;\">\n",
       "      <th></th>\n",
       "      <th>Start</th>\n",
       "      <th>Open</th>\n",
       "      <th>High</th>\n",
       "      <th>Low</th>\n",
       "      <th>Close</th>\n",
       "      <th>Volume</th>\n",
       "    </tr>\n",
       "  </thead>\n",
       "  <tbody>\n",
       "    <tr>\n",
       "      <th>0</th>\n",
       "      <td>2010-07-27</td>\n",
       "      <td>0.0600</td>\n",
       "      <td>0.0600</td>\n",
       "      <td>0.0600</td>\n",
       "      <td>0.0600</td>\n",
       "      <td>0.000000e+00</td>\n",
       "    </tr>\n",
       "    <tr>\n",
       "      <th>1</th>\n",
       "      <td>2010-07-28</td>\n",
       "      <td>0.0589</td>\n",
       "      <td>0.0589</td>\n",
       "      <td>0.0589</td>\n",
       "      <td>0.0589</td>\n",
       "      <td>0.000000e+00</td>\n",
       "    </tr>\n",
       "    <tr>\n",
       "      <th>2</th>\n",
       "      <td>2010-07-29</td>\n",
       "      <td>0.0699</td>\n",
       "      <td>0.0699</td>\n",
       "      <td>0.0699</td>\n",
       "      <td>0.0699</td>\n",
       "      <td>0.000000e+00</td>\n",
       "    </tr>\n",
       "    <tr>\n",
       "      <th>3</th>\n",
       "      <td>2010-07-30</td>\n",
       "      <td>0.0627</td>\n",
       "      <td>0.0627</td>\n",
       "      <td>0.0627</td>\n",
       "      <td>0.0627</td>\n",
       "      <td>0.000000e+00</td>\n",
       "    </tr>\n",
       "    <tr>\n",
       "      <th>4</th>\n",
       "      <td>2010-07-31</td>\n",
       "      <td>0.0679</td>\n",
       "      <td>0.0679</td>\n",
       "      <td>0.0679</td>\n",
       "      <td>0.0679</td>\n",
       "      <td>0.000000e+00</td>\n",
       "    </tr>\n",
       "    <tr>\n",
       "      <th>...</th>\n",
       "      <td>...</td>\n",
       "      <td>...</td>\n",
       "      <td>...</td>\n",
       "      <td>...</td>\n",
       "      <td>...</td>\n",
       "      <td>...</td>\n",
       "    </tr>\n",
       "    <tr>\n",
       "      <th>5016</th>\n",
       "      <td>2024-04-20</td>\n",
       "      <td>63824.0600</td>\n",
       "      <td>65351.3300</td>\n",
       "      <td>63321.1900</td>\n",
       "      <td>64857.9900</td>\n",
       "      <td>1.537410e+11</td>\n",
       "    </tr>\n",
       "    <tr>\n",
       "      <th>5017</th>\n",
       "      <td>2024-04-21</td>\n",
       "      <td>64875.7500</td>\n",
       "      <td>65638.7400</td>\n",
       "      <td>64302.4700</td>\n",
       "      <td>64896.8700</td>\n",
       "      <td>1.326574e+11</td>\n",
       "    </tr>\n",
       "    <tr>\n",
       "      <th>5018</th>\n",
       "      <td>2024-04-22</td>\n",
       "      <td>64952.0200</td>\n",
       "      <td>67180.0300</td>\n",
       "      <td>64598.0000</td>\n",
       "      <td>66818.8900</td>\n",
       "      <td>1.400725e+11</td>\n",
       "    </tr>\n",
       "    <tr>\n",
       "      <th>5019</th>\n",
       "      <td>2024-04-23</td>\n",
       "      <td>66761.0200</td>\n",
       "      <td>67174.0200</td>\n",
       "      <td>65884.1500</td>\n",
       "      <td>66386.6100</td>\n",
       "      <td>1.408621e+11</td>\n",
       "    </tr>\n",
       "    <tr>\n",
       "      <th>5020</th>\n",
       "      <td>2024-04-24</td>\n",
       "      <td>66553.5400</td>\n",
       "      <td>67070.4000</td>\n",
       "      <td>63742.7300</td>\n",
       "      <td>64291.0700</td>\n",
       "      <td>1.384736e+11</td>\n",
       "    </tr>\n",
       "  </tbody>\n",
       "</table>\n",
       "<p>5021 rows × 6 columns</p>\n",
       "</div>"
      ],
      "text/plain": [
       "           Start        Open        High         Low       Close        Volume\n",
       "0     2010-07-27      0.0600      0.0600      0.0600      0.0600  0.000000e+00\n",
       "1     2010-07-28      0.0589      0.0589      0.0589      0.0589  0.000000e+00\n",
       "2     2010-07-29      0.0699      0.0699      0.0699      0.0699  0.000000e+00\n",
       "3     2010-07-30      0.0627      0.0627      0.0627      0.0627  0.000000e+00\n",
       "4     2010-07-31      0.0679      0.0679      0.0679      0.0679  0.000000e+00\n",
       "...          ...         ...         ...         ...         ...           ...\n",
       "5016  2024-04-20  63824.0600  65351.3300  63321.1900  64857.9900  1.537410e+11\n",
       "5017  2024-04-21  64875.7500  65638.7400  64302.4700  64896.8700  1.326574e+11\n",
       "5018  2024-04-22  64952.0200  67180.0300  64598.0000  66818.8900  1.400725e+11\n",
       "5019  2024-04-23  66761.0200  67174.0200  65884.1500  66386.6100  1.408621e+11\n",
       "5020  2024-04-24  66553.5400  67070.4000  63742.7300  64291.0700  1.384736e+11\n",
       "\n",
       "[5021 rows x 6 columns]"
      ]
     },
     "execution_count": 3,
     "metadata": {},
     "output_type": "execute_result"
    }
   ],
   "source": [
    "df = raw_data.iloc[::-1]\n",
    "df = df.reset_index()\n",
    "features = df.columns[1:8]\n",
    "features = features.drop(\"End\",True)\n",
    "df = df[features]\n",
    "df"
   ]
  },
  {
   "cell_type": "code",
   "execution_count": 4,
   "metadata": {},
   "outputs": [],
   "source": [
    "temp = []\n",
    "for i in df['Start']:\n",
    "    temp.append(pd.to_datetime(i).year)\n",
    "df['Year']=temp"
   ]
  },
  {
   "cell_type": "code",
   "execution_count": 5,
   "metadata": {},
   "outputs": [
    {
     "data": {
      "text/plain": [
       "<Axes: ylabel='Frequency'>"
      ]
     },
     "execution_count": 5,
     "metadata": {},
     "output_type": "execute_result"
    },
    {
     "data": {
      "image/png": "[encoded data removed]",
      "text/plain": [
       "<Figure size 640x480 with 1 Axes>"
      ]
     },
     "metadata": {},
     "output_type": "display_data"
    }
   ],
   "source": [
    "t = df['Volume']\n",
    "t.plot(kind='hist')\n"
   ]
  },
  {
   "cell_type": "code",
   "execution_count": 6,
   "metadata": {},
   "outputs": [
    {
     "data": {
      "text/plain": [
       "12973864"
      ]
     },
     "execution_count": 6,
     "metadata": {},
     "output_type": "execute_result"
    }
   ],
   "source": [
    "df = df.drop(index = df[df['Volume'] == 0].index)\n",
    "df = df.reset_index()\n",
    "df['Tok'] = df['Volume'] / ((df['High'] + df['Low']) / 2)\n",
    "# df.to_csv('delete.csv')\n",
    "int(df['Tok'].max()  - df['Tok'].min())"
   ]
  },
  {
   "cell_type": "markdown",
   "metadata": {},
   "source": [
    "### Showing Dist of volumes after removing 0 Values grouping by mean of volumes depending on the year index"
   ]
  },
  {
   "cell_type": "code",
   "execution_count": 7,
   "metadata": {},
   "outputs": [
    {
     "data": {
      "text/plain": [
       "Text(0.5, 1.0, 'Tok Dist')"
      ]
     },
     "execution_count": 7,
     "metadata": {},
     "output_type": "execute_result"
    },
    {
     "data": {
      "image/png": "[encoded data removed]",
      "text/plain": [
       "<Figure size 1500x500 with 2 Axes>"
      ]
     },
     "metadata": {},
     "output_type": "display_data"
    }
   ],
   "source": [
    "G_mean1 = df.groupby(df['Year'])['Volume']\n",
    "G_mean1 = G_mean1.mean()\n",
    "\n",
    "Gmean2 = df.groupby(df['Year'])['Tok']\n",
    "Gmean2 = Gmean2.mean()\n",
    "\n",
    "# mean1.plot(kind = 'bar')\n",
    "\n",
    "fig, (ax0,ax1) = plt.subplots(1,2,figsize = (15,5))\n",
    "\n",
    "ax0.bar(x = range(2013,2025),height=G_mean1.values ,width = 0.6,data = G_mean1)\n",
    "ax0.set_title(\"Volume Dist\")\n",
    "ax1.bar(x = range(2013,2025),height=Gmean2.values ,width = 0.6,data = Gmean2)\n",
    "ax1.set_title(\"Tok Dist\")\n",
    "\n",
    "### Remember Tok is the number of trading per day because it is equal to (volume / price) for each day.....it is for smalling the defrence"
   ]
  },
  {
   "cell_type": "markdown",
   "metadata": {},
   "source": [
    "### Finding the defrence between the first of the year and the end of the year"
   ]
  },
  {
   "cell_type": "code",
   "execution_count": 8,
   "metadata": {},
   "outputs": [
    {
     "data": {
      "text/plain": [
       "<Axes: xlabel='Year'>"
      ]
     },
     "execution_count": 8,
     "metadata": {},
     "output_type": "execute_result"
    },
    {
     "data": {
      "image/png": "[encoded data removed]",
      "text/plain": [
       "<Figure size 640x480 with 1 Axes>"
      ]
     },
     "metadata": {},
     "output_type": "display_data"
    }
   ],
   "source": [
    "arr_def = pd.DataFrame([])\n",
    "defference = df.groupby(df['Year'])['Volume']\n",
    "arr_def['Deff'] = defference.max() -defference.min() \n",
    "\n",
    "arr_def['Deff'].plot(kind='bar')\n"
   ]
  },
  {
   "cell_type": "markdown",
   "metadata": {},
   "source": [
    "### show the scatter for 2024 change in Volumes"
   ]
  },
  {
   "cell_type": "code",
   "execution_count": 9,
   "metadata": {},
   "outputs": [
    {
     "data": {
      "text/plain": [
       "Text(0.5, 1.0, 'Volume During 2024 01/1 -> 24/4')"
      ]
     },
     "execution_count": 9,
     "metadata": {},
     "output_type": "execute_result"
    },
    {
     "data": {
      "image/png": "[encoded data removed]",
      "text/plain": [
       "<Figure size 640x480 with 1 Axes>"
      ]
     },
     "metadata": {},
     "output_type": "display_data"
    }
   ],
   "source": [
    "ind = df[df['Year'] == 2024].index\n",
    "temp = pd.DataFrame(df[['Start','Volume']],index = ind)\n",
    "temp['Start'] = [(pd.to_datetime(i).month,pd.to_datetime(i).day) for i in temp['Start']]\n",
    "\n",
    "temp.plot(kind = 'line', y='Volume', x='Start')\n",
    "plt.xlabel(\"(month/day)\")\n",
    "plt.title(\"Volume During 2024 01/1 -> 24/4\")"
   ]
  },
  {
   "cell_type": "code",
   "execution_count": 10,
   "metadata": {},
   "outputs": [
    {
     "name": "stdout",
     "output_type": "stream",
     "text": [
      "<class 'pandas.core.frame.DataFrame'>\n",
      "RangeIndex: 3772 entries, 0 to 3771\n",
      "Data columns (total 9 columns):\n",
      " #   Column  Non-Null Count  Dtype  \n",
      "---  ------  --------------  -----  \n",
      " 0   index   3772 non-null   int64  \n",
      " 1   Start   3772 non-null   object \n",
      " 2   Open    3772 non-null   float64\n",
      " 3   High    3772 non-null   float64\n",
      " 4   Low     3772 non-null   float64\n",
      " 5   Close   3772 non-null   float64\n",
      " 6   Volume  3772 non-null   float64\n",
      " 7   Year    3772 non-null   int64  \n",
      " 8   Tok     3772 non-null   float64\n",
      "dtypes: float64(6), int64(2), object(1)\n",
      "memory usage: 265.3+ KB\n"
     ]
    }
   ],
   "source": [
    "df.info()"
   ]
  },
  {
   "cell_type": "code",
   "execution_count": 18,
   "metadata": {},
   "outputs": [],
   "source": [
    "df = df[['Start', 'High', 'Low', 'Volume']]"
   ]
  },
  {
   "cell_type": "code",
   "execution_count": 21,
   "metadata": {},
   "outputs": [],
   "source": [
    "BTC = df\n",
    "BTC.to_csv('Scripts out/BTC.csv',index=0)"
   ]
  },
  {
   "cell_type": "code",
   "execution_count": 13,
   "metadata": {},
   "outputs": [
    {
     "name": "stderr",
     "output_type": "stream",
     "text": [
      "C:\\Users\\hussam\\AppData\\Local\\Temp\\ipykernel_9496\\62389784.py:1: FutureWarning: The argument 'date_parser' is deprecated and will be removed in a future version. Please use 'date_format' instead, or read your data in as 'object' dtype and then call 'to_datetime'.\n",
      "  ADA = pd.read_csv(\"Sources Files/OHLCV_Binance_ADA-USDT_D20180417T040200UTC-D20240404T115959UTC_1min.csv\",parse_dates=['timestamp'], date_parser=lambda x:pd.to_datetime(x,unit='s'))\n",
      "C:\\Users\\hussam\\AppData\\Local\\Temp\\ipykernel_9496\\62389784.py:1: FutureWarning: The behavior of 'to_datetime' with 'unit' when parsing strings is deprecated. In a future version, strings will be parsed as datetime strings, matching the behavior without a 'unit'. To retain the old behavior, explicitly cast ints or floats to numeric type before calling to_datetime.\n",
      "  ADA = pd.read_csv(\"Sources Files/OHLCV_Binance_ADA-USDT_D20180417T040200UTC-D20240404T115959UTC_1min.csv\",parse_dates=['timestamp'], date_parser=lambda x:pd.to_datetime(x,unit='s'))\n",
      "C:\\Users\\hussam\\AppData\\Local\\Temp\\ipykernel_9496\\62389784.py:2: FutureWarning: The argument 'date_parser' is deprecated and will be removed in a future version. Please use 'date_format' instead, or read your data in as 'object' dtype and then call 'to_datetime'.\n",
      "  BNB = pd.read_csv(\"Sources Files/OHLCV_Binance_BNB-USDT_D20171106T035400UTC-D20240404T115959UTC_1min.csv\",parse_dates=['timestamp'], date_parser=lambda x:pd.to_datetime(x,unit='s'))\n",
      "C:\\Users\\hussam\\AppData\\Local\\Temp\\ipykernel_9496\\62389784.py:2: FutureWarning: The behavior of 'to_datetime' with 'unit' when parsing strings is deprecated. In a future version, strings will be parsed as datetime strings, matching the behavior without a 'unit'. To retain the old behavior, explicitly cast ints or floats to numeric type before calling to_datetime.\n",
      "  BNB = pd.read_csv(\"Sources Files/OHLCV_Binance_BNB-USDT_D20171106T035400UTC-D20240404T115959UTC_1min.csv\",parse_dates=['timestamp'], date_parser=lambda x:pd.to_datetime(x,unit='s'))\n",
      "C:\\Users\\hussam\\AppData\\Local\\Temp\\ipykernel_9496\\62389784.py:3: FutureWarning: The argument 'date_parser' is deprecated and will be removed in a future version. Please use 'date_format' instead, or read your data in as 'object' dtype and then call 'to_datetime'.\n",
      "  ETH = pd.read_csv(\"Sources Files/OHLCV_Binance_ETH-USDT_D20170817T040000UTC-D20240404T115959UTC_1min.csv\",parse_dates=['timestamp'], date_parser=lambda x:pd.to_datetime(x,unit='s'))\n",
      "C:\\Users\\hussam\\AppData\\Local\\Temp\\ipykernel_9496\\62389784.py:3: FutureWarning: The behavior of 'to_datetime' with 'unit' when parsing strings is deprecated. In a future version, strings will be parsed as datetime strings, matching the behavior without a 'unit'. To retain the old behavior, explicitly cast ints or floats to numeric type before calling to_datetime.\n",
      "  ETH = pd.read_csv(\"Sources Files/OHLCV_Binance_ETH-USDT_D20170817T040000UTC-D20240404T115959UTC_1min.csv\",parse_dates=['timestamp'], date_parser=lambda x:pd.to_datetime(x,unit='s'))\n",
      "C:\\Users\\hussam\\AppData\\Local\\Temp\\ipykernel_9496\\62389784.py:4: FutureWarning: The argument 'date_parser' is deprecated and will be removed in a future version. Please use 'date_format' instead, or read your data in as 'object' dtype and then call 'to_datetime'.\n",
      "  SOL = pd.read_csv(\"Sources Files/OHLCV_Binance_SOL-USDT_D20200811T060000UTC-D20240404T115959UTC_1min.csv\",parse_dates=['timestamp'], date_parser=lambda x:pd.to_datetime(x,unit='s'))\n",
      "C:\\Users\\hussam\\AppData\\Local\\Temp\\ipykernel_9496\\62389784.py:4: FutureWarning: The behavior of 'to_datetime' with 'unit' when parsing strings is deprecated. In a future version, strings will be parsed as datetime strings, matching the behavior without a 'unit'. To retain the old behavior, explicitly cast ints or floats to numeric type before calling to_datetime.\n",
      "  SOL = pd.read_csv(\"Sources Files/OHLCV_Binance_SOL-USDT_D20200811T060000UTC-D20240404T115959UTC_1min.csv\",parse_dates=['timestamp'], date_parser=lambda x:pd.to_datetime(x,unit='s'))\n",
      "C:\\Users\\hussam\\AppData\\Local\\Temp\\ipykernel_9496\\62389784.py:5: FutureWarning: The argument 'date_parser' is deprecated and will be removed in a future version. Please use 'date_format' instead, or read your data in as 'object' dtype and then call 'to_datetime'.\n",
      "  XRP = pd.read_csv(\"Sources Files/OHLCV_Binance_XRP-USDT_D20180504T081100UTC-D20240404T115959UTC_1min.csv\",parse_dates=['timestamp'], date_parser=lambda x:pd.to_datetime(x,unit='s'))\n",
      "C:\\Users\\hussam\\AppData\\Local\\Temp\\ipykernel_9496\\62389784.py:5: FutureWarning: The behavior of 'to_datetime' with 'unit' when parsing strings is deprecated. In a future version, strings will be parsed as datetime strings, matching the behavior without a 'unit'. To retain the old behavior, explicitly cast ints or floats to numeric type before calling to_datetime.\n",
      "  XRP = pd.read_csv(\"Sources Files/OHLCV_Binance_XRP-USDT_D20180504T081100UTC-D20240404T115959UTC_1min.csv\",parse_dates=['timestamp'], date_parser=lambda x:pd.to_datetime(x,unit='s'))\n"
     ]
    }
   ],
   "source": [
    "ADA = pd.read_csv(\"Sources Files/OHLCV_Binance_ADA-USDT_D20180417T040200UTC-D20240404T115959UTC_1min.csv\",parse_dates=['timestamp'], date_parser=lambda x:pd.to_datetime(x,unit='s'))\n",
    "BNB = pd.read_csv(\"Sources Files/OHLCV_Binance_BNB-USDT_D20171106T035400UTC-D20240404T115959UTC_1min.csv\",parse_dates=['timestamp'], date_parser=lambda x:pd.to_datetime(x,unit='s'))\n",
    "ETH = pd.read_csv(\"Sources Files/OHLCV_Binance_ETH-USDT_D20170817T040000UTC-D20240404T115959UTC_1min.csv\",parse_dates=['timestamp'], date_parser=lambda x:pd.to_datetime(x,unit='s'))\n",
    "SOL = pd.read_csv(\"Sources Files/OHLCV_Binance_SOL-USDT_D20200811T060000UTC-D20240404T115959UTC_1min.csv\",parse_dates=['timestamp'], date_parser=lambda x:pd.to_datetime(x,unit='s'))\n",
    "XRP = pd.read_csv(\"Sources Files/OHLCV_Binance_XRP-USDT_D20180504T081100UTC-D20240404T115959UTC_1min.csv\",parse_dates=['timestamp'], date_parser=lambda x:pd.to_datetime(x,unit='s'))"
   ]
  },
  {
   "cell_type": "markdown",
   "metadata": {},
   "source": [
    "### here to make the stuff simple i take the mean value of the price in whole the days and exporting the result"
   ]
  },
  {
   "cell_type": "code",
   "execution_count": 22,
   "metadata": {},
   "outputs": [],
   "source": [
    "for i,s in zip([ADA, BNB, ETH, SOL, XRP, ],['ADA', 'BNB', 'ETH', 'SOL', 'XRP']):\n",
    "\n"
   ]
  }
 ],
 "metadata": {
  "kernelspec": {
   "display_name": "Python 3 (ipykernel)",
   "language": "python",
   "name": "python3"
  },
  "language_info": {
   "codemirror_mode": {
    "name": "ipython",
    "version": 3
   },
   "file_extension": ".py",
   "mimetype": "text/x-python",
   "name": "python",
   "nbconvert_exporter": "python",
   "pygments_lexer": "ipython3",
   "version": "3.10.1"
  }
 },
 "nbformat": 4,
 "nbformat_minor": 4
}
