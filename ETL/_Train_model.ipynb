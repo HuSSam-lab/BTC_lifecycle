{
 "cells": [
  {
   "cell_type": "code",
   "execution_count": 192,
   "metadata": {},
   "outputs": [],
   "source": [
    "from xgboost import XGBRegressor\n",
    "from sklearn.model_selection import train_test_split\n",
    "import pandas as pd\n",
    "from sklearn.metrics import mean_squared_error"
   ]
  },
  {
   "cell_type": "code",
   "execution_count": 193,
   "metadata": {},
   "outputs": [],
   "source": [
    "model = XGBRegressor()\n"
   ]
  },
  {
   "cell_type": "code",
   "execution_count": 194,
   "metadata": {},
   "outputs": [],
   "source": [
    "# This for Hussam in the future ... why we reorder the Dataframes \n",
    "# (because i start training the model usning defrent data frames \n",
    "# and these data frame were order in this way so i want to keep all the work without change every things)\n",
    "BTC = pd.read_csv('Scripts out/BTC.csv')\n",
    "BTC = BTC[::-1]\n",
    "BTC.reset_index(drop=True, inplace = True)\n",
    "\n",
    "ADA = pd.read_csv('Scripts out/ADA.csv')\n",
    "ADA = ADA[::-1]\n",
    "ADA.reset_index(drop=True, inplace = True)\n",
    "\n",
    "BNB = pd.read_csv('Scripts out/BNB.csv')\n",
    "BNB = BNB[::-1]\n",
    "BNB.reset_index(drop=True, inplace = True)\n",
    "\n",
    "ETH = pd.read_csv('Scripts out/ETH.csv')\n",
    "ETH = ETH[::-1]\n",
    "ETH.reset_index(drop=True, inplace = True)\n",
    "\n",
    "SOL = pd.read_csv('Scripts out/SOL.csv')\n",
    "SOL = SOL[::-1]\n",
    "SOL.reset_index(drop=True, inplace = True)\n",
    "\n",
    "XRP = pd.read_csv('Scripts out/XRP.csv')\n",
    "XRP = XRP[::-1]\n",
    "XRP.reset_index(drop=True, inplace = True)\n",
    "\n"
   ]
  },
  {
   "cell_type": "code",
   "execution_count": 195,
   "metadata": {},
   "outputs": [
    {
     "name": "stdout",
     "output_type": "stream",
     "text": [
      "5052\n",
      "2418\n"
     ]
    }
   ],
   "source": [
    "print(len(BTC))\n",
    "print(len(ADA))"
   ]
  },
  {
   "cell_type": "markdown",
   "metadata": {},
   "source": [
    "#### shrink the BTC data base depending on ADA (the shorter DF)"
   ]
  },
  {
   "cell_type": "code",
   "execution_count": 196,
   "metadata": {},
   "outputs": [
    {
     "data": {
      "text/html": [
       "<div>\n",
       "<style scoped>\n",
       "    .dataframe tbody tr th:only-of-type {\n",
       "        vertical-align: middle;\n",
       "    }\n",
       "\n",
       "    .dataframe tbody tr th {\n",
       "        vertical-align: top;\n",
       "    }\n",
       "\n",
       "    .dataframe thead th {\n",
       "        text-align: right;\n",
       "    }\n",
       "</style>\n",
       "<table border=\"1\" class=\"dataframe\">\n",
       "  <thead>\n",
       "    <tr style=\"text-align: right;\">\n",
       "      <th></th>\n",
       "      <th>Start</th>\n",
       "      <th>High</th>\n",
       "      <th>Low</th>\n",
       "      <th>Volume</th>\n",
       "    </tr>\n",
       "  </thead>\n",
       "  <tbody>\n",
       "    <tr>\n",
       "      <th>0</th>\n",
       "      <td>2017-10-02</td>\n",
       "      <td>4446.342068</td>\n",
       "      <td>4361.270626</td>\n",
       "      <td>1.177333e+09</td>\n",
       "    </tr>\n",
       "    <tr>\n",
       "      <th>1</th>\n",
       "      <td>2017-10-03</td>\n",
       "      <td>4466.306182</td>\n",
       "      <td>4237.159335</td>\n",
       "      <td>1.146607e+09</td>\n",
       "    </tr>\n",
       "    <tr>\n",
       "      <th>2</th>\n",
       "      <td>2017-10-04</td>\n",
       "      <td>4337.574576</td>\n",
       "      <td>4206.295821</td>\n",
       "      <td>9.741398e+08</td>\n",
       "    </tr>\n",
       "    <tr>\n",
       "      <th>3</th>\n",
       "      <td>2017-10-05</td>\n",
       "      <td>4348.467992</td>\n",
       "      <td>4157.650335</td>\n",
       "      <td>9.920291e+08</td>\n",
       "    </tr>\n",
       "    <tr>\n",
       "      <th>4</th>\n",
       "      <td>2017-10-06</td>\n",
       "      <td>4392.401416</td>\n",
       "      <td>4296.675659</td>\n",
       "      <td>9.624500e+08</td>\n",
       "    </tr>\n",
       "  </tbody>\n",
       "</table>\n",
       "</div>"
      ],
      "text/plain": [
       "        Start         High          Low        Volume\n",
       "0  2017-10-02  4446.342068  4361.270626  1.177333e+09\n",
       "1  2017-10-03  4466.306182  4237.159335  1.146607e+09\n",
       "2  2017-10-04  4337.574576  4206.295821  9.741398e+08\n",
       "3  2017-10-05  4348.467992  4157.650335  9.920291e+08\n",
       "4  2017-10-06  4392.401416  4296.675659  9.624500e+08"
      ]
     },
     "execution_count": 196,
     "metadata": {},
     "output_type": "execute_result"
    }
   ],
   "source": [
    "df_BTC = BTC\n",
    "\n",
    "s = ADA['date'][0]\n",
    "\n",
    "ind = df_BTC.index[df_BTC['Start'] == s].values\n",
    "\n",
    "df_BTC = df_BTC.iloc[ind[0]:]\n",
    "df_BTC.reset_index(drop = True,inplace = True)\n",
    "\n",
    "df_BTC.head()"
   ]
  },
  {
   "cell_type": "code",
   "execution_count": 197,
   "metadata": {},
   "outputs": [
    {
     "name": "stdout",
     "output_type": "stream",
     "text": [
      "            date      High\n",
      "2417  2024-05-15  0.454413\n",
      "           Start     High       Low        Volume\n",
      "2417  2024-05-15  66390.0  61404.32  1.003509e+11\n"
     ]
    }
   ],
   "source": [
    "print(ADA.tail(1))\n",
    "print(df_BTC.tail(1))\n"
   ]
  },
  {
   "cell_type": "code",
   "execution_count": 198,
   "metadata": {},
   "outputs": [
    {
     "data": {
      "text/html": [
       "<div>\n",
       "<style scoped>\n",
       "    .dataframe tbody tr th:only-of-type {\n",
       "        vertical-align: middle;\n",
       "    }\n",
       "\n",
       "    .dataframe tbody tr th {\n",
       "        vertical-align: top;\n",
       "    }\n",
       "\n",
       "    .dataframe thead th {\n",
       "        text-align: right;\n",
       "    }\n",
       "</style>\n",
       "<table border=\"1\" class=\"dataframe\">\n",
       "  <thead>\n",
       "    <tr style=\"text-align: right;\">\n",
       "      <th></th>\n",
       "      <th>Start</th>\n",
       "      <th>High</th>\n",
       "      <th>Low</th>\n",
       "      <th>Volume</th>\n",
       "    </tr>\n",
       "  </thead>\n",
       "  <tbody>\n",
       "    <tr>\n",
       "      <th>2413</th>\n",
       "      <td>2024-05-11</td>\n",
       "      <td>61391.96</td>\n",
       "      <td>60560.03</td>\n",
       "      <td>9.335287e+10</td>\n",
       "    </tr>\n",
       "    <tr>\n",
       "      <th>2414</th>\n",
       "      <td>2024-05-12</td>\n",
       "      <td>61763.99</td>\n",
       "      <td>60689.41</td>\n",
       "      <td>7.614435e+10</td>\n",
       "    </tr>\n",
       "    <tr>\n",
       "      <th>2415</th>\n",
       "      <td>2024-05-13</td>\n",
       "      <td>63332.96</td>\n",
       "      <td>60786.91</td>\n",
       "      <td>9.073478e+10</td>\n",
       "    </tr>\n",
       "    <tr>\n",
       "      <th>2416</th>\n",
       "      <td>2024-05-14</td>\n",
       "      <td>63053.02</td>\n",
       "      <td>61157.62</td>\n",
       "      <td>9.684300e+10</td>\n",
       "    </tr>\n",
       "    <tr>\n",
       "      <th>2417</th>\n",
       "      <td>2024-05-15</td>\n",
       "      <td>66390.00</td>\n",
       "      <td>61404.32</td>\n",
       "      <td>1.003509e+11</td>\n",
       "    </tr>\n",
       "  </tbody>\n",
       "</table>\n",
       "</div>"
      ],
      "text/plain": [
       "           Start      High       Low        Volume\n",
       "2413  2024-05-11  61391.96  60560.03  9.335287e+10\n",
       "2414  2024-05-12  61763.99  60689.41  7.614435e+10\n",
       "2415  2024-05-13  63332.96  60786.91  9.073478e+10\n",
       "2416  2024-05-14  63053.02  61157.62  9.684300e+10\n",
       "2417  2024-05-15  66390.00  61404.32  1.003509e+11"
      ]
     },
     "execution_count": 198,
     "metadata": {},
     "output_type": "execute_result"
    }
   ],
   "source": [
    "df_ADA = ADA\n",
    "las = df_ADA.index[df_ADA['date'] == list(df_ADA['date'])[-1]].values\n",
    "df_BTC = df_BTC.iloc[:las[0]+1]\n",
    "df_BTC.tail()"
   ]
  },
  {
   "cell_type": "markdown",
   "metadata": {},
   "source": [
    "now what about BNB, ETH, SOL, XRP"
   ]
  },
  {
   "cell_type": "code",
   "execution_count": 199,
   "metadata": {},
   "outputs": [
    {
     "name": "stdout",
     "output_type": "stream",
     "text": [
      "2465 3204 1498 3926\n"
     ]
    }
   ],
   "source": [
    "print(len(BNB), len(ETH), len(SOL), len(XRP))"
   ]
  },
  {
   "cell_type": "markdown",
   "metadata": {},
   "source": [
    "i don't want to loss a alot of information so i will won't use SOL as input for the model\n",
    "\n",
    "attention i will keep the SOL because i get the data from other source and it was better "
   ]
  },
  {
   "cell_type": "code",
   "execution_count": 200,
   "metadata": {},
   "outputs": [
    {
     "name": "stdout",
     "output_type": "stream",
     "text": [
      "2465 3204 3926\n"
     ]
    }
   ],
   "source": [
    "print(len(BNB), len(ETH), len(XRP))"
   ]
  },
  {
   "cell_type": "code",
   "execution_count": 201,
   "metadata": {},
   "outputs": [
    {
     "data": {
      "text/html": [
       "<div>\n",
       "<style scoped>\n",
       "    .dataframe tbody tr th:only-of-type {\n",
       "        vertical-align: middle;\n",
       "    }\n",
       "\n",
       "    .dataframe tbody tr th {\n",
       "        vertical-align: top;\n",
       "    }\n",
       "\n",
       "    .dataframe thead th {\n",
       "        text-align: right;\n",
       "    }\n",
       "</style>\n",
       "<table border=\"1\" class=\"dataframe\">\n",
       "  <thead>\n",
       "    <tr style=\"text-align: right;\">\n",
       "      <th></th>\n",
       "      <th>date</th>\n",
       "      <th>High</th>\n",
       "    </tr>\n",
       "  </thead>\n",
       "  <tbody>\n",
       "    <tr>\n",
       "      <th>0</th>\n",
       "      <td>2013-08-16</td>\n",
       "      <td>0.003162</td>\n",
       "    </tr>\n",
       "  </tbody>\n",
       "</table>\n",
       "</div>"
      ],
      "text/plain": [
       "         date      High\n",
       "0  2013-08-16  0.003162"
      ]
     },
     "execution_count": 201,
     "metadata": {},
     "output_type": "execute_result"
    }
   ],
   "source": [
    "df_XRP = XRP\n",
    "df_XRP.head(1)"
   ]
  },
  {
   "cell_type": "code",
   "execution_count": 202,
   "metadata": {},
   "outputs": [
    {
     "name": "stdout",
     "output_type": "stream",
     "text": [
      "2013-08-16\n",
      "2017-10-02\n"
     ]
    }
   ],
   "source": [
    "print(df_XRP['date'][0])\n",
    "print(df_BTC['Start'][0])"
   ]
  },
  {
   "cell_type": "code",
   "execution_count": 203,
   "metadata": {},
   "outputs": [],
   "source": [
    "s = df_BTC['Start'][0]\n",
    "\n",
    "ind = df_XRP.index[df_XRP['date'] == s].values\n",
    "df_XRP = df_XRP.iloc[ind[0]:]\n",
    "df_XRP.reset_index(drop=True, inplace=True)\n",
    "\n"
   ]
  },
  {
   "cell_type": "code",
   "execution_count": 204,
   "metadata": {},
   "outputs": [
    {
     "name": "stdout",
     "output_type": "stream",
     "text": [
      "2024-05-15\n",
      "['2024-05-15']\n"
     ]
    }
   ],
   "source": [
    "print(list(df_XRP['date'])[-1])\n",
    "print(df_BTC['Start'].tail(1).values)"
   ]
  },
  {
   "cell_type": "markdown",
   "metadata": {},
   "source": [
    "BTC, ADA, XRP are done!\n",
    "\n",
    "still BNB, ETH"
   ]
  },
  {
   "cell_type": "code",
   "execution_count": 205,
   "metadata": {},
   "outputs": [
    {
     "name": "stdout",
     "output_type": "stream",
     "text": [
      "         date     High\n",
      "0  2017-08-16  1.45272\n",
      "         date     High\n",
      "0  2015-08-08  2.79881\n",
      "         date      High\n",
      "0  2020-04-09  0.744465\n",
      "        Start         High          Low        Volume\n",
      "0  2017-10-02  4446.342068  4361.270626  1.177333e+09\n"
     ]
    }
   ],
   "source": [
    "df_BNB = BNB\n",
    "print(df_BNB.head(1))\n",
    "df_ETH = ETH\n",
    "df_SOL = SOL\n",
    "print(df_ETH.head(1))\n",
    "print(df_SOL.head(1))\n",
    "print(df_BTC.head(1))\n"
   ]
  },
  {
   "cell_type": "markdown",
   "metadata": {},
   "source": [
    "Excellant because the two remaining data (BNB, ETH) bases have including the BTC dates\n",
    "\n"
   ]
  },
  {
   "cell_type": "markdown",
   "metadata": {},
   "source": [
    "###### I will fill the SOL DF with 0 values \n",
    "\n",
    "###### saving the time i merge SOL with df_ETH name "
   ]
  },
  {
   "cell_type": "code",
   "execution_count": 206,
   "metadata": {},
   "outputs": [
    {
     "data": {
      "text/plain": [
       "Index([0], dtype='int64')"
      ]
     },
     "execution_count": 206,
     "metadata": {},
     "output_type": "execute_result"
    }
   ],
   "source": [
    "df_BTC.index[df_BTC['Start'] == df_BTC['Start'][0]]"
   ]
  },
  {
   "cell_type": "code",
   "execution_count": 207,
   "metadata": {},
   "outputs": [],
   "source": [
    "df_ETH= pd.merge(df_ETH, df_SOL,how = 'left', on='date')\n",
    "df_ETH = df_ETH.fillna(0)"
   ]
  },
  {
   "cell_type": "markdown",
   "metadata": {},
   "source": [
    "##### here i get Error (missing row in BNB df) 24/1/2018"
   ]
  },
  {
   "cell_type": "code",
   "execution_count": 208,
   "metadata": {},
   "outputs": [],
   "source": [
    "# short =  [pd.to_datetime(i).date() for i in df_BNB['date']]\n",
    "# lon = [i for i in pd.date_range('2017-10-03', '2024-05-15', ).date]\n",
    "# set(lon) - set(short)"
   ]
  },
  {
   "cell_type": "code",
   "execution_count": 209,
   "metadata": {},
   "outputs": [],
   "source": [
    "df_BNB = df_BNB.iloc[df_BNB.index[df_BNB['date'] == df_BTC['Start'][0]].values[0]:] ## :( Sorry, i want to make the code shorter\n",
    "df_ETH = df_ETH.iloc[df_ETH.index[df_ETH['date'] == df_BTC['Start'][0]].values[0]:]\n",
    "\n",
    "\n"
   ]
  },
  {
   "cell_type": "code",
   "execution_count": 210,
   "metadata": {},
   "outputs": [],
   "source": [
    "df_ETH.reset_index(drop = True, inplace = True)\n",
    "df_BNB.reset_index(drop = True, inplace = True)"
   ]
  },
  {
   "cell_type": "code",
   "execution_count": 211,
   "metadata": {},
   "outputs": [
    {
     "name": "stdout",
     "output_type": "stream",
     "text": [
      "         date     High\n",
      "0  2017-10-02  1.98287\n",
      "         date      High_x  High_y\n",
      "0  2017-10-02  301.084757     0.0\n",
      "        Start         High          Low        Volume\n",
      "0  2017-10-02  4446.342068  4361.270626  1.177333e+09\n"
     ]
    }
   ],
   "source": [
    "print(df_BNB.head(1))\n",
    "print(df_ETH.head(1))\n",
    "print(df_BTC.head(1))"
   ]
  },
  {
   "cell_type": "code",
   "execution_count": 212,
   "metadata": {},
   "outputs": [
    {
     "name": "stdout",
     "output_type": "stream",
     "text": [
      "            date      High\n",
      "2417  2024-05-15  587.6572\n",
      "            date     High_x    High_y\n",
      "2417  2024-05-15  3040.3976  158.5516\n"
     ]
    },
    {
     "data": {
      "text/html": [
       "<div>\n",
       "<style scoped>\n",
       "    .dataframe tbody tr th:only-of-type {\n",
       "        vertical-align: middle;\n",
       "    }\n",
       "\n",
       "    .dataframe tbody tr th {\n",
       "        vertical-align: top;\n",
       "    }\n",
       "\n",
       "    .dataframe thead th {\n",
       "        text-align: right;\n",
       "    }\n",
       "</style>\n",
       "<table border=\"1\" class=\"dataframe\">\n",
       "  <thead>\n",
       "    <tr style=\"text-align: right;\">\n",
       "      <th></th>\n",
       "      <th>Start</th>\n",
       "      <th>High</th>\n",
       "      <th>Low</th>\n",
       "      <th>Volume</th>\n",
       "    </tr>\n",
       "  </thead>\n",
       "  <tbody>\n",
       "    <tr>\n",
       "      <th>2417</th>\n",
       "      <td>2024-05-15</td>\n",
       "      <td>66390.0</td>\n",
       "      <td>61404.32</td>\n",
       "      <td>1.003509e+11</td>\n",
       "    </tr>\n",
       "  </tbody>\n",
       "</table>\n",
       "</div>"
      ],
      "text/plain": [
       "           Start     High       Low        Volume\n",
       "2417  2024-05-15  66390.0  61404.32  1.003509e+11"
      ]
     },
     "execution_count": 212,
     "metadata": {},
     "output_type": "execute_result"
    }
   ],
   "source": [
    "print(df_BNB.tail(1))\n",
    "print(df_ETH.tail(1))\n",
    "df_BTC.tail(1)\n",
    "\n"
   ]
  },
  {
   "cell_type": "markdown",
   "metadata": {},
   "source": [
    "# Done :)"
   ]
  },
  {
   "cell_type": "code",
   "execution_count": 213,
   "metadata": {},
   "outputs": [
    {
     "name": "stderr",
     "output_type": "stream",
     "text": [
      "C:\\Users\\hussam\\AppData\\Local\\Temp\\ipykernel_22728\\2579459158.py:2: SettingWithCopyWarning: \n",
      "A value is trying to be set on a copy of a slice from a DataFrame\n",
      "\n",
      "See the caveats in the documentation: https://pandas.pydata.org/pandas-docs/stable/user_guide/indexing.html#returning-a-view-versus-a-copy\n",
      "  df_prices.rename(axis = 1, mapper={'Start' : 'date','High' : 'btc_high'}, inplace=True)\n"
     ]
    },
    {
     "data": {
      "text/html": [
       "<div>\n",
       "<style scoped>\n",
       "    .dataframe tbody tr th:only-of-type {\n",
       "        vertical-align: middle;\n",
       "    }\n",
       "\n",
       "    .dataframe tbody tr th {\n",
       "        vertical-align: top;\n",
       "    }\n",
       "\n",
       "    .dataframe thead th {\n",
       "        text-align: right;\n",
       "    }\n",
       "</style>\n",
       "<table border=\"1\" class=\"dataframe\">\n",
       "  <thead>\n",
       "    <tr style=\"text-align: right;\">\n",
       "      <th></th>\n",
       "      <th>date</th>\n",
       "      <th>btc_high</th>\n",
       "    </tr>\n",
       "  </thead>\n",
       "  <tbody>\n",
       "    <tr>\n",
       "      <th>0</th>\n",
       "      <td>2017-10-02</td>\n",
       "      <td>4446.342068</td>\n",
       "    </tr>\n",
       "    <tr>\n",
       "      <th>1</th>\n",
       "      <td>2017-10-03</td>\n",
       "      <td>4466.306182</td>\n",
       "    </tr>\n",
       "    <tr>\n",
       "      <th>2</th>\n",
       "      <td>2017-10-04</td>\n",
       "      <td>4337.574576</td>\n",
       "    </tr>\n",
       "    <tr>\n",
       "      <th>3</th>\n",
       "      <td>2017-10-05</td>\n",
       "      <td>4348.467992</td>\n",
       "    </tr>\n",
       "    <tr>\n",
       "      <th>4</th>\n",
       "      <td>2017-10-06</td>\n",
       "      <td>4392.401416</td>\n",
       "    </tr>\n",
       "  </tbody>\n",
       "</table>\n",
       "</div>"
      ],
      "text/plain": [
       "         date     btc_high\n",
       "0  2017-10-02  4446.342068\n",
       "1  2017-10-03  4466.306182\n",
       "2  2017-10-04  4337.574576\n",
       "3  2017-10-05  4348.467992\n",
       "4  2017-10-06  4392.401416"
      ]
     },
     "execution_count": 213,
     "metadata": {},
     "output_type": "execute_result"
    }
   ],
   "source": [
    "df_prices = df_BTC[['Start','High']]\n",
    "df_prices.rename(axis = 1, mapper={'Start' : 'date','High' : 'btc_high'}, inplace=True)\n",
    "df_prices.head()"
   ]
  },
  {
   "cell_type": "code",
   "execution_count": 214,
   "metadata": {},
   "outputs": [
    {
     "data": {
      "text/plain": [
       "Index(['date', 'High'], dtype='object')"
      ]
     },
     "execution_count": 214,
     "metadata": {},
     "output_type": "execute_result"
    }
   ],
   "source": [
    "df_ADA.columns"
   ]
  },
  {
   "cell_type": "code",
   "execution_count": 215,
   "metadata": {},
   "outputs": [
    {
     "name": "stdout",
     "output_type": "stream",
     "text": [
      "         date     High\n",
      "0  2017-10-02  1.98287\n",
      "1  2017-10-03  2.03295\n",
      "2  2017-10-04  1.85747\n",
      "3  2017-10-05  1.73519\n",
      "4  2017-10-06  1.71358\n"
     ]
    },
    {
     "data": {
      "text/html": [
       "<div>\n",
       "<style scoped>\n",
       "    .dataframe tbody tr th:only-of-type {\n",
       "        vertical-align: middle;\n",
       "    }\n",
       "\n",
       "    .dataframe tbody tr th {\n",
       "        vertical-align: top;\n",
       "    }\n",
       "\n",
       "    .dataframe thead th {\n",
       "        text-align: right;\n",
       "    }\n",
       "</style>\n",
       "<table border=\"1\" class=\"dataframe\">\n",
       "  <thead>\n",
       "    <tr style=\"text-align: right;\">\n",
       "      <th></th>\n",
       "      <th>date</th>\n",
       "      <th>High</th>\n",
       "    </tr>\n",
       "  </thead>\n",
       "  <tbody>\n",
       "    <tr>\n",
       "      <th>0</th>\n",
       "      <td>2017-10-02</td>\n",
       "      <td>0.030088</td>\n",
       "    </tr>\n",
       "    <tr>\n",
       "      <th>1</th>\n",
       "      <td>2017-10-03</td>\n",
       "      <td>0.027172</td>\n",
       "    </tr>\n",
       "    <tr>\n",
       "      <th>2</th>\n",
       "      <td>2017-10-04</td>\n",
       "      <td>0.022962</td>\n",
       "    </tr>\n",
       "    <tr>\n",
       "      <th>3</th>\n",
       "      <td>2017-10-05</td>\n",
       "      <td>0.022245</td>\n",
       "    </tr>\n",
       "    <tr>\n",
       "      <th>4</th>\n",
       "      <td>2017-10-06</td>\n",
       "      <td>0.021576</td>\n",
       "    </tr>\n",
       "  </tbody>\n",
       "</table>\n",
       "</div>"
      ],
      "text/plain": [
       "         date      High\n",
       "0  2017-10-02  0.030088\n",
       "1  2017-10-03  0.027172\n",
       "2  2017-10-04  0.022962\n",
       "3  2017-10-05  0.022245\n",
       "4  2017-10-06  0.021576"
      ]
     },
     "execution_count": 215,
     "metadata": {},
     "output_type": "execute_result"
    }
   ],
   "source": [
    "print(df_BNB.head())\n",
    "df_ADA.head()"
   ]
  },
  {
   "cell_type": "code",
   "execution_count": 216,
   "metadata": {},
   "outputs": [
    {
     "data": {
      "text/plain": [
       "(2418, 2418, 2418, 2418)"
      ]
     },
     "execution_count": 216,
     "metadata": {},
     "output_type": "execute_result"
    }
   ],
   "source": [
    "len(df_ADA['High']),len(df_BNB['High']),len(df_ETH[['High_x', 'High_y']]),len(df_XRP['High'])"
   ]
  },
  {
   "cell_type": "code",
   "execution_count": 217,
   "metadata": {},
   "outputs": [],
   "source": [
    "df_SOL = df_ETH[['date', 'High_y']]\n",
    "df_ETH = df_ETH[['date','High_x']]"
   ]
  },
  {
   "cell_type": "code",
   "execution_count": 218,
   "metadata": {},
   "outputs": [
    {
     "data": {
      "text/html": [
       "<div>\n",
       "<style scoped>\n",
       "    .dataframe tbody tr th:only-of-type {\n",
       "        vertical-align: middle;\n",
       "    }\n",
       "\n",
       "    .dataframe tbody tr th {\n",
       "        vertical-align: top;\n",
       "    }\n",
       "\n",
       "    .dataframe thead th {\n",
       "        text-align: right;\n",
       "    }\n",
       "</style>\n",
       "<table border=\"1\" class=\"dataframe\">\n",
       "  <thead>\n",
       "    <tr style=\"text-align: right;\">\n",
       "      <th></th>\n",
       "      <th>High</th>\n",
       "      <th>High</th>\n",
       "      <th>High_x</th>\n",
       "      <th>High_y</th>\n",
       "      <th>High</th>\n",
       "    </tr>\n",
       "  </thead>\n",
       "  <tbody>\n",
       "    <tr>\n",
       "      <th>0</th>\n",
       "      <td>0.030088</td>\n",
       "      <td>1.98287</td>\n",
       "      <td>301.084757</td>\n",
       "      <td>0.0000</td>\n",
       "      <td>0.206464</td>\n",
       "    </tr>\n",
       "    <tr>\n",
       "      <th>1</th>\n",
       "      <td>0.027172</td>\n",
       "      <td>2.03295</td>\n",
       "      <td>299.042274</td>\n",
       "      <td>0.0000</td>\n",
       "      <td>0.204199</td>\n",
       "    </tr>\n",
       "    <tr>\n",
       "      <th>2</th>\n",
       "      <td>0.022962</td>\n",
       "      <td>1.85747</td>\n",
       "      <td>295.132972</td>\n",
       "      <td>0.0000</td>\n",
       "      <td>0.217585</td>\n",
       "    </tr>\n",
       "    <tr>\n",
       "      <th>3</th>\n",
       "      <td>0.022245</td>\n",
       "      <td>1.73519</td>\n",
       "      <td>296.608512</td>\n",
       "      <td>0.0000</td>\n",
       "      <td>0.240870</td>\n",
       "    </tr>\n",
       "    <tr>\n",
       "      <th>4</th>\n",
       "      <td>0.021576</td>\n",
       "      <td>1.71358</td>\n",
       "      <td>307.934787</td>\n",
       "      <td>0.0000</td>\n",
       "      <td>0.242474</td>\n",
       "    </tr>\n",
       "    <tr>\n",
       "      <th>...</th>\n",
       "      <td>...</td>\n",
       "      <td>...</td>\n",
       "      <td>...</td>\n",
       "      <td>...</td>\n",
       "      <td>...</td>\n",
       "    </tr>\n",
       "    <tr>\n",
       "      <th>2413</th>\n",
       "      <td>0.450802</td>\n",
       "      <td>594.63760</td>\n",
       "      <td>2942.277100</td>\n",
       "      <td>147.4857</td>\n",
       "      <td>0.508342</td>\n",
       "    </tr>\n",
       "    <tr>\n",
       "      <th>2414</th>\n",
       "      <td>0.442977</td>\n",
       "      <td>599.60780</td>\n",
       "      <td>2957.482000</td>\n",
       "      <td>147.5651</td>\n",
       "      <td>0.509656</td>\n",
       "    </tr>\n",
       "    <tr>\n",
       "      <th>2415</th>\n",
       "      <td>0.452807</td>\n",
       "      <td>598.25870</td>\n",
       "      <td>2991.171700</td>\n",
       "      <td>150.0654</td>\n",
       "      <td>0.511454</td>\n",
       "    </tr>\n",
       "    <tr>\n",
       "      <th>2416</th>\n",
       "      <td>0.438039</td>\n",
       "      <td>592.95790</td>\n",
       "      <td>2962.467300</td>\n",
       "      <td>148.9396</td>\n",
       "      <td>0.509955</td>\n",
       "    </tr>\n",
       "    <tr>\n",
       "      <th>2417</th>\n",
       "      <td>0.454413</td>\n",
       "      <td>587.65720</td>\n",
       "      <td>3040.397600</td>\n",
       "      <td>158.5516</td>\n",
       "      <td>0.519989</td>\n",
       "    </tr>\n",
       "  </tbody>\n",
       "</table>\n",
       "<p>2418 rows × 5 columns</p>\n",
       "</div>"
      ],
      "text/plain": [
       "          High       High       High_x    High_y      High\n",
       "0     0.030088    1.98287   301.084757    0.0000  0.206464\n",
       "1     0.027172    2.03295   299.042274    0.0000  0.204199\n",
       "2     0.022962    1.85747   295.132972    0.0000  0.217585\n",
       "3     0.022245    1.73519   296.608512    0.0000  0.240870\n",
       "4     0.021576    1.71358   307.934787    0.0000  0.242474\n",
       "...        ...        ...          ...       ...       ...\n",
       "2413  0.450802  594.63760  2942.277100  147.4857  0.508342\n",
       "2414  0.442977  599.60780  2957.482000  147.5651  0.509656\n",
       "2415  0.452807  598.25870  2991.171700  150.0654  0.511454\n",
       "2416  0.438039  592.95790  2962.467300  148.9396  0.509955\n",
       "2417  0.454413  587.65720  3040.397600  158.5516  0.519989\n",
       "\n",
       "[2418 rows x 5 columns]"
      ]
     },
     "execution_count": 218,
     "metadata": {},
     "output_type": "execute_result"
    }
   ],
   "source": [
    "pd.concat([df_ADA['High'], df_BNB['High'], df_ETH['High_x'], df_SOL['High_y'], df_XRP['High']], axis= 1)"
   ]
  },
  {
   "cell_type": "code",
   "execution_count": 219,
   "metadata": {},
   "outputs": [
    {
     "name": "stderr",
     "output_type": "stream",
     "text": [
      "C:\\Users\\hussam\\AppData\\Local\\Temp\\ipykernel_22728\\3175460583.py:1: SettingWithCopyWarning: \n",
      "A value is trying to be set on a copy of a slice from a DataFrame.\n",
      "Try using .loc[row_indexer,col_indexer] = value instead\n",
      "\n",
      "See the caveats in the documentation: https://pandas.pydata.org/pandas-docs/stable/user_guide/indexing.html#returning-a-view-versus-a-copy\n",
      "  df_prices[['ada_high', 'bnb_high', 'eth_high', 'sol_high', 'xrp_high']] = pd.concat([df_ADA['High'], df_BNB['High'], df_ETH['High_x'], df_SOL['High_y'], df_XRP['High']], axis= 1, keys=['ada_high', 'bnb_high', 'eth_high', 'sol_high', 'xrp_high'])\n"
     ]
    }
   ],
   "source": [
    "df_prices[['ada_high', 'bnb_high', 'eth_high', 'sol_high', 'xrp_high']] = pd.concat([df_ADA['High'], df_BNB['High'], df_ETH['High_x'], df_SOL['High_y'], df_XRP['High']], axis= 1, keys=['ada_high', 'bnb_high', 'eth_high', 'sol_high', 'xrp_high'])\n"
   ]
  },
  {
   "cell_type": "code",
   "execution_count": 220,
   "metadata": {},
   "outputs": [
    {
     "data": {
      "text/html": [
       "<div>\n",
       "<style scoped>\n",
       "    .dataframe tbody tr th:only-of-type {\n",
       "        vertical-align: middle;\n",
       "    }\n",
       "\n",
       "    .dataframe tbody tr th {\n",
       "        vertical-align: top;\n",
       "    }\n",
       "\n",
       "    .dataframe thead th {\n",
       "        text-align: right;\n",
       "    }\n",
       "</style>\n",
       "<table border=\"1\" class=\"dataframe\">\n",
       "  <thead>\n",
       "    <tr style=\"text-align: right;\">\n",
       "      <th></th>\n",
       "      <th>date</th>\n",
       "      <th>btc_high</th>\n",
       "      <th>ada_high</th>\n",
       "      <th>bnb_high</th>\n",
       "      <th>eth_high</th>\n",
       "      <th>sol_high</th>\n",
       "      <th>xrp_high</th>\n",
       "    </tr>\n",
       "  </thead>\n",
       "  <tbody>\n",
       "    <tr>\n",
       "      <th>0</th>\n",
       "      <td>2017-10-02</td>\n",
       "      <td>4446.342068</td>\n",
       "      <td>0.030088</td>\n",
       "      <td>1.98287</td>\n",
       "      <td>301.084757</td>\n",
       "      <td>0.0</td>\n",
       "      <td>0.206464</td>\n",
       "    </tr>\n",
       "    <tr>\n",
       "      <th>1</th>\n",
       "      <td>2017-10-03</td>\n",
       "      <td>4466.306182</td>\n",
       "      <td>0.027172</td>\n",
       "      <td>2.03295</td>\n",
       "      <td>299.042274</td>\n",
       "      <td>0.0</td>\n",
       "      <td>0.204199</td>\n",
       "    </tr>\n",
       "    <tr>\n",
       "      <th>2</th>\n",
       "      <td>2017-10-04</td>\n",
       "      <td>4337.574576</td>\n",
       "      <td>0.022962</td>\n",
       "      <td>1.85747</td>\n",
       "      <td>295.132972</td>\n",
       "      <td>0.0</td>\n",
       "      <td>0.217585</td>\n",
       "    </tr>\n",
       "    <tr>\n",
       "      <th>3</th>\n",
       "      <td>2017-10-05</td>\n",
       "      <td>4348.467992</td>\n",
       "      <td>0.022245</td>\n",
       "      <td>1.73519</td>\n",
       "      <td>296.608512</td>\n",
       "      <td>0.0</td>\n",
       "      <td>0.240870</td>\n",
       "    </tr>\n",
       "    <tr>\n",
       "      <th>4</th>\n",
       "      <td>2017-10-06</td>\n",
       "      <td>4392.401416</td>\n",
       "      <td>0.021576</td>\n",
       "      <td>1.71358</td>\n",
       "      <td>307.934787</td>\n",
       "      <td>0.0</td>\n",
       "      <td>0.242474</td>\n",
       "    </tr>\n",
       "  </tbody>\n",
       "</table>\n",
       "</div>"
      ],
      "text/plain": [
       "         date     btc_high  ada_high  bnb_high    eth_high  sol_high  xrp_high\n",
       "0  2017-10-02  4446.342068  0.030088   1.98287  301.084757       0.0  0.206464\n",
       "1  2017-10-03  4466.306182  0.027172   2.03295  299.042274       0.0  0.204199\n",
       "2  2017-10-04  4337.574576  0.022962   1.85747  295.132972       0.0  0.217585\n",
       "3  2017-10-05  4348.467992  0.022245   1.73519  296.608512       0.0  0.240870\n",
       "4  2017-10-06  4392.401416  0.021576   1.71358  307.934787       0.0  0.242474"
      ]
     },
     "execution_count": 220,
     "metadata": {},
     "output_type": "execute_result"
    }
   ],
   "source": [
    "df_prices.head()"
   ]
  },
  {
   "cell_type": "markdown",
   "metadata": {},
   "source": [
    "here i will consider all currecny prices input and the model should use them to predict the BTC prices"
   ]
  },
  {
   "cell_type": "markdown",
   "metadata": {},
   "source": [
    "i know that not good (Because it is time serires probelm), but this currency will help in the future the model with other feaures like twitter and trend to predict the BTC price"
   ]
  },
  {
   "cell_type": "code",
   "execution_count": 221,
   "metadata": {},
   "outputs": [],
   "source": [
    "features = ['ada_high','bnb_high','eth_high','xrp_high']\n",
    "\n",
    "target = df_prices['btc_high']\n",
    "train = df_prices[features]\n"
   ]
  },
  {
   "cell_type": "code",
   "execution_count": 222,
   "metadata": {},
   "outputs": [],
   "source": [
    "x_train, x_test, y_train, y_test = train_test_split(train, target)\n"
   ]
  },
  {
   "cell_type": "code",
   "execution_count": 223,
   "metadata": {},
   "outputs": [
    {
     "name": "stdout",
     "output_type": "stream",
     "text": [
      "Root Mean Squared Error (RMSE): 1490.1211639566648\n"
     ]
    }
   ],
   "source": [
    "model = XGBRegressor(n_estimators = 100,learning_rate=0.1, max_depth=10)\n",
    "model.fit(x_train, y_train)\n",
    "y_pred = model.predict(x_test)\n",
    "rmse = mean_squared_error(y_test, y_pred, squared=False)\n",
    "print(f\"Root Mean Squared Error (RMSE): {rmse}\")\n"
   ]
  },
  {
   "cell_type": "code",
   "execution_count": 224,
   "metadata": {},
   "outputs": [
    {
     "name": "stderr",
     "output_type": "stream",
     "text": [
      "C:\\Users\\hussam\\AppData\\Local\\Temp\\ipykernel_22728\\619425532.py:1: DtypeWarning: Columns (6) have mixed types. Specify dtype option on import or set low_memory=False.\n",
      "  Twitter = pd.read_csv('Scripts out/Twitter_1M.csv', sep=';')\n"
     ]
    },
    {
     "data": {
      "text/html": [
       "<div>\n",
       "<style scoped>\n",
       "    .dataframe tbody tr th:only-of-type {\n",
       "        vertical-align: middle;\n",
       "    }\n",
       "\n",
       "    .dataframe tbody tr th {\n",
       "        vertical-align: top;\n",
       "    }\n",
       "\n",
       "    .dataframe thead th {\n",
       "        text-align: right;\n",
       "    }\n",
       "</style>\n",
       "<table border=\"1\" class=\"dataframe\">\n",
       "  <thead>\n",
       "    <tr style=\"text-align: right;\">\n",
       "      <th></th>\n",
       "      <th>index</th>\n",
       "      <th>date</th>\n",
       "      <th>hashtags</th>\n",
       "      <th>user_followers</th>\n",
       "      <th>user_friends</th>\n",
       "      <th>user_favourites</th>\n",
       "      <th>user_verified</th>\n",
       "      <th>is_retweet</th>\n",
       "      <th>Is_old_User</th>\n",
       "      <th>user_important</th>\n",
       "    </tr>\n",
       "  </thead>\n",
       "  <tbody>\n",
       "    <tr>\n",
       "      <th>0</th>\n",
       "      <td>0</td>\n",
       "      <td>2021-02-10</td>\n",
       "      <td>['bitcoin']</td>\n",
       "      <td>8534.0</td>\n",
       "      <td>7605</td>\n",
       "      <td>4838</td>\n",
       "      <td>False</td>\n",
       "      <td>0</td>\n",
       "      <td>1</td>\n",
       "      <td>1</td>\n",
       "    </tr>\n",
       "    <tr>\n",
       "      <th>1</th>\n",
       "      <td>1</td>\n",
       "      <td>2021-02-10</td>\n",
       "      <td>['Thursday', 'Btc', 'wallet', 'security']</td>\n",
       "      <td>6769.0</td>\n",
       "      <td>1532</td>\n",
       "      <td>25483</td>\n",
       "      <td>False</td>\n",
       "      <td>0</td>\n",
       "      <td>1</td>\n",
       "      <td>1</td>\n",
       "    </tr>\n",
       "    <tr>\n",
       "      <th>2</th>\n",
       "      <td>2</td>\n",
       "      <td>2021-02-10</td>\n",
       "      <td>['Bitcoin', 'FX', 'BTC', 'crypto']</td>\n",
       "      <td>625.0</td>\n",
       "      <td>129</td>\n",
       "      <td>14</td>\n",
       "      <td>False</td>\n",
       "      <td>0</td>\n",
       "      <td>1</td>\n",
       "      <td>0</td>\n",
       "    </tr>\n",
       "    <tr>\n",
       "      <th>3</th>\n",
       "      <td>3</td>\n",
       "      <td>2021-02-10</td>\n",
       "      <td>['BTC']</td>\n",
       "      <td>1249.0</td>\n",
       "      <td>1472</td>\n",
       "      <td>10482</td>\n",
       "      <td>False</td>\n",
       "      <td>0</td>\n",
       "      <td>1</td>\n",
       "      <td>1</td>\n",
       "    </tr>\n",
       "    <tr>\n",
       "      <th>4</th>\n",
       "      <td>4</td>\n",
       "      <td>2021-02-10</td>\n",
       "      <td>['Crypto', 'Binance', 'Cashback']</td>\n",
       "      <td>742.0</td>\n",
       "      <td>716</td>\n",
       "      <td>2444</td>\n",
       "      <td>False</td>\n",
       "      <td>0</td>\n",
       "      <td>1</td>\n",
       "      <td>0</td>\n",
       "    </tr>\n",
       "    <tr>\n",
       "      <th>...</th>\n",
       "      <td>...</td>\n",
       "      <td>...</td>\n",
       "      <td>...</td>\n",
       "      <td>...</td>\n",
       "      <td>...</td>\n",
       "      <td>...</td>\n",
       "      <td>...</td>\n",
       "      <td>...</td>\n",
       "      <td>...</td>\n",
       "      <td>...</td>\n",
       "    </tr>\n",
       "    <tr>\n",
       "      <th>83247</th>\n",
       "      <td>83247</td>\n",
       "      <td>2021-04-19</td>\n",
       "      <td>['legendary', 'NFT', 'blockchain', 'games', 'V...</td>\n",
       "      <td>210.0</td>\n",
       "      <td>954</td>\n",
       "      <td>5655</td>\n",
       "      <td>0</td>\n",
       "      <td>0</td>\n",
       "      <td>1</td>\n",
       "      <td>0</td>\n",
       "    </tr>\n",
       "    <tr>\n",
       "      <th>83248</th>\n",
       "      <td>83248</td>\n",
       "      <td>2021-04-19</td>\n",
       "      <td>['legendary', 'NFT', 'blockchain', 'games', 'V...</td>\n",
       "      <td>210.0</td>\n",
       "      <td>954</td>\n",
       "      <td>5655</td>\n",
       "      <td>0</td>\n",
       "      <td>0</td>\n",
       "      <td>1</td>\n",
       "      <td>0</td>\n",
       "    </tr>\n",
       "    <tr>\n",
       "      <th>83249</th>\n",
       "      <td>83249</td>\n",
       "      <td>2021-04-19</td>\n",
       "      <td>['legendary', 'NFT', 'blockchain', 'games', 'V...</td>\n",
       "      <td>210.0</td>\n",
       "      <td>954</td>\n",
       "      <td>5655</td>\n",
       "      <td>0</td>\n",
       "      <td>0</td>\n",
       "      <td>1</td>\n",
       "      <td>0</td>\n",
       "    </tr>\n",
       "    <tr>\n",
       "      <th>83250</th>\n",
       "      <td>83250</td>\n",
       "      <td>2021-04-19</td>\n",
       "      <td>['legendary', 'NFT', 'blockchain', 'games', 'V...</td>\n",
       "      <td>210.0</td>\n",
       "      <td>954</td>\n",
       "      <td>5655</td>\n",
       "      <td>0</td>\n",
       "      <td>0</td>\n",
       "      <td>1</td>\n",
       "      <td>0</td>\n",
       "    </tr>\n",
       "    <tr>\n",
       "      <th>83251</th>\n",
       "      <td>83251</td>\n",
       "      <td>2021-04-19</td>\n",
       "      <td>['cryptocurrency', 'bitcoin', 'btc', 'bitcoins']</td>\n",
       "      <td>65.0</td>\n",
       "      <td>110</td>\n",
       "      <td>310</td>\n",
       "      <td>0</td>\n",
       "      <td>0</td>\n",
       "      <td>0</td>\n",
       "      <td>0</td>\n",
       "    </tr>\n",
       "  </tbody>\n",
       "</table>\n",
       "<p>83252 rows × 10 columns</p>\n",
       "</div>"
      ],
      "text/plain": [
       "       index        date                                           hashtags   \n",
       "0          0  2021-02-10                                        ['bitcoin']  \\\n",
       "1          1  2021-02-10          ['Thursday', 'Btc', 'wallet', 'security']   \n",
       "2          2  2021-02-10                 ['Bitcoin', 'FX', 'BTC', 'crypto']   \n",
       "3          3  2021-02-10                                            ['BTC']   \n",
       "4          4  2021-02-10                  ['Crypto', 'Binance', 'Cashback']   \n",
       "...      ...         ...                                                ...   \n",
       "83247  83247  2021-04-19  ['legendary', 'NFT', 'blockchain', 'games', 'V...   \n",
       "83248  83248  2021-04-19  ['legendary', 'NFT', 'blockchain', 'games', 'V...   \n",
       "83249  83249  2021-04-19  ['legendary', 'NFT', 'blockchain', 'games', 'V...   \n",
       "83250  83250  2021-04-19  ['legendary', 'NFT', 'blockchain', 'games', 'V...   \n",
       "83251  83251  2021-04-19   ['cryptocurrency', 'bitcoin', 'btc', 'bitcoins']   \n",
       "\n",
       "       user_followers  user_friends  user_favourites user_verified   \n",
       "0              8534.0          7605             4838         False  \\\n",
       "1              6769.0          1532            25483         False   \n",
       "2               625.0           129               14         False   \n",
       "3              1249.0          1472            10482         False   \n",
       "4               742.0           716             2444         False   \n",
       "...               ...           ...              ...           ...   \n",
       "83247           210.0           954             5655             0   \n",
       "83248           210.0           954             5655             0   \n",
       "83249           210.0           954             5655             0   \n",
       "83250           210.0           954             5655             0   \n",
       "83251            65.0           110              310             0   \n",
       "\n",
       "       is_retweet  Is_old_User  user_important  \n",
       "0               0            1               1  \n",
       "1               0            1               1  \n",
       "2               0            1               0  \n",
       "3               0            1               1  \n",
       "4               0            1               0  \n",
       "...           ...          ...             ...  \n",
       "83247           0            1               0  \n",
       "83248           0            1               0  \n",
       "83249           0            1               0  \n",
       "83250           0            1               0  \n",
       "83251           0            0               0  \n",
       "\n",
       "[83252 rows x 10 columns]"
      ]
     },
     "execution_count": 224,
     "metadata": {},
     "output_type": "execute_result"
    }
   ],
   "source": [
    "Twitter = pd.read_csv('Scripts out/Twitter_1M.csv', sep=';')\n",
    "Twitter"
   ]
  },
  {
   "cell_type": "code",
   "execution_count": 225,
   "metadata": {},
   "outputs": [],
   "source": [
    "df_twitter = Twitter[['date', 'user_verified', 'is_retweet', 'Is_old_User', 'user_important']]\n"
   ]
  },
  {
   "cell_type": "code",
   "execution_count": 226,
   "metadata": {},
   "outputs": [
    {
     "name": "stderr",
     "output_type": "stream",
     "text": [
      "C:\\Users\\hussam\\AppData\\Local\\Temp\\ipykernel_22728\\2878129010.py:1: SettingWithCopyWarning: \n",
      "A value is trying to be set on a copy of a slice from a DataFrame\n",
      "\n",
      "See the caveats in the documentation: https://pandas.pydata.org/pandas-docs/stable/user_guide/indexing.html#returning-a-view-versus-a-copy\n",
      "  df_twitter.sort_values('date',inplace=True)\n"
     ]
    }
   ],
   "source": [
    "df_twitter.sort_values('date',inplace=True)\n",
    "df_twitter.reset_index(drop = True, inplace = True)"
   ]
  },
  {
   "cell_type": "code",
   "execution_count": 227,
   "metadata": {},
   "outputs": [
    {
     "name": "stdout",
     "output_type": "stream",
     "text": [
      "2021-02-05 2021-04-24\n"
     ]
    }
   ],
   "source": [
    "print(df_twitter['date'].min(), df_twitter['date'].max())\n"
   ]
  },
  {
   "cell_type": "code",
   "execution_count": 228,
   "metadata": {},
   "outputs": [
    {
     "name": "stdout",
     "output_type": "stream",
     "text": [
      "2017-10-02\n"
     ]
    },
    {
     "data": {
      "text/plain": [
       "'2024-05-15'"
      ]
     },
     "execution_count": 228,
     "metadata": {},
     "output_type": "execute_result"
    }
   ],
   "source": [
    "print(df_prices['date'].min())\n",
    "df_prices['date'].max()\n"
   ]
  },
  {
   "cell_type": "code",
   "execution_count": 229,
   "metadata": {},
   "outputs": [],
   "source": [
    "# i = df_twitter.groupby(['date']).sum()"
   ]
  },
  {
   "cell_type": "markdown",
   "metadata": {},
   "source": [
    "# Google Trend"
   ]
  },
  {
   "cell_type": "code",
   "execution_count": 230,
   "metadata": {},
   "outputs": [],
   "source": [
    "google = pd.read_csv('Scripts out/Google Trend.csv')\n",
    "df_google = google"
   ]
  },
  {
   "cell_type": "code",
   "execution_count": 231,
   "metadata": {},
   "outputs": [
    {
     "data": {
      "text/html": [
       "<div>\n",
       "<style scoped>\n",
       "    .dataframe tbody tr th:only-of-type {\n",
       "        vertical-align: middle;\n",
       "    }\n",
       "\n",
       "    .dataframe tbody tr th {\n",
       "        vertical-align: top;\n",
       "    }\n",
       "\n",
       "    .dataframe thead th {\n",
       "        text-align: right;\n",
       "    }\n",
       "</style>\n",
       "<table border=\"1\" class=\"dataframe\">\n",
       "  <thead>\n",
       "    <tr style=\"text-align: right;\">\n",
       "      <th></th>\n",
       "      <th>date</th>\n",
       "      <th>worldwide</th>\n",
       "      <th>unitedstates</th>\n",
       "      <th>Germany</th>\n",
       "      <th>UAE</th>\n",
       "      <th>Dubai</th>\n",
       "    </tr>\n",
       "  </thead>\n",
       "  <tbody>\n",
       "    <tr>\n",
       "      <th>0</th>\n",
       "      <td>2004-01-01</td>\n",
       "      <td>1</td>\n",
       "      <td>0</td>\n",
       "      <td>3</td>\n",
       "      <td>0</td>\n",
       "      <td>0</td>\n",
       "    </tr>\n",
       "    <tr>\n",
       "      <th>1</th>\n",
       "      <td>2004-02-01</td>\n",
       "      <td>1</td>\n",
       "      <td>0</td>\n",
       "      <td>2</td>\n",
       "      <td>0</td>\n",
       "      <td>0</td>\n",
       "    </tr>\n",
       "    <tr>\n",
       "      <th>2</th>\n",
       "      <td>2004-03-01</td>\n",
       "      <td>1</td>\n",
       "      <td>0</td>\n",
       "      <td>2</td>\n",
       "      <td>0</td>\n",
       "      <td>0</td>\n",
       "    </tr>\n",
       "    <tr>\n",
       "      <th>3</th>\n",
       "      <td>2004-04-01</td>\n",
       "      <td>1</td>\n",
       "      <td>0</td>\n",
       "      <td>1</td>\n",
       "      <td>0</td>\n",
       "      <td>0</td>\n",
       "    </tr>\n",
       "    <tr>\n",
       "      <th>4</th>\n",
       "      <td>2004-05-01</td>\n",
       "      <td>1</td>\n",
       "      <td>0</td>\n",
       "      <td>1</td>\n",
       "      <td>0</td>\n",
       "      <td>0</td>\n",
       "    </tr>\n",
       "  </tbody>\n",
       "</table>\n",
       "</div>"
      ],
      "text/plain": [
       "        date  worldwide  unitedstates  Germany  UAE  Dubai\n",
       "0 2004-01-01          1             0        3    0      0\n",
       "1 2004-02-01          1             0        2    0      0\n",
       "2 2004-03-01          1             0        2    0      0\n",
       "3 2004-04-01          1             0        1    0      0\n",
       "4 2004-05-01          1             0        1    0      0"
      ]
     },
     "execution_count": 231,
     "metadata": {},
     "output_type": "execute_result"
    }
   ],
   "source": [
    "df_google['date'] = [pd.to_datetime(i) for i in df_google['date']]\n",
    "df_google.head()\n"
   ]
  },
  {
   "cell_type": "code",
   "execution_count": 232,
   "metadata": {},
   "outputs": [
    {
     "data": {
      "text/html": [
       "<div>\n",
       "<style scoped>\n",
       "    .dataframe tbody tr th:only-of-type {\n",
       "        vertical-align: middle;\n",
       "    }\n",
       "\n",
       "    .dataframe tbody tr th {\n",
       "        vertical-align: top;\n",
       "    }\n",
       "\n",
       "    .dataframe thead th {\n",
       "        text-align: right;\n",
       "    }\n",
       "</style>\n",
       "<table border=\"1\" class=\"dataframe\">\n",
       "  <thead>\n",
       "    <tr style=\"text-align: right;\">\n",
       "      <th></th>\n",
       "      <th>date</th>\n",
       "      <th>worldwide</th>\n",
       "      <th>unitedstates</th>\n",
       "      <th>Germany</th>\n",
       "      <th>UAE</th>\n",
       "      <th>Dubai</th>\n",
       "    </tr>\n",
       "  </thead>\n",
       "  <tbody>\n",
       "    <tr>\n",
       "      <th>240</th>\n",
       "      <td>2024-01-01</td>\n",
       "      <td>33</td>\n",
       "      <td>22</td>\n",
       "      <td>56</td>\n",
       "      <td>26</td>\n",
       "      <td>27</td>\n",
       "    </tr>\n",
       "    <tr>\n",
       "      <th>241</th>\n",
       "      <td>2024-02-01</td>\n",
       "      <td>31</td>\n",
       "      <td>21</td>\n",
       "      <td>49</td>\n",
       "      <td>25</td>\n",
       "      <td>25</td>\n",
       "    </tr>\n",
       "    <tr>\n",
       "      <th>242</th>\n",
       "      <td>2024-03-01</td>\n",
       "      <td>51</td>\n",
       "      <td>33</td>\n",
       "      <td>76</td>\n",
       "      <td>43</td>\n",
       "      <td>44</td>\n",
       "    </tr>\n",
       "    <tr>\n",
       "      <th>243</th>\n",
       "      <td>2024-04-01</td>\n",
       "      <td>38</td>\n",
       "      <td>24</td>\n",
       "      <td>57</td>\n",
       "      <td>30</td>\n",
       "      <td>33</td>\n",
       "    </tr>\n",
       "    <tr>\n",
       "      <th>244</th>\n",
       "      <td>2024-05-01</td>\n",
       "      <td>30</td>\n",
       "      <td>19</td>\n",
       "      <td>46</td>\n",
       "      <td>25</td>\n",
       "      <td>25</td>\n",
       "    </tr>\n",
       "  </tbody>\n",
       "</table>\n",
       "</div>"
      ],
      "text/plain": [
       "          date  worldwide  unitedstates  Germany  UAE  Dubai\n",
       "240 2024-01-01         33            22       56   26     27\n",
       "241 2024-02-01         31            21       49   25     25\n",
       "242 2024-03-01         51            33       76   43     44\n",
       "243 2024-04-01         38            24       57   30     33\n",
       "244 2024-05-01         30            19       46   25     25"
      ]
     },
     "execution_count": 232,
     "metadata": {},
     "output_type": "execute_result"
    }
   ],
   "source": [
    "df_google.tail()"
   ]
  },
  {
   "cell_type": "code",
   "execution_count": 233,
   "metadata": {},
   "outputs": [
    {
     "data": {
      "text/html": [
       "<div>\n",
       "<style scoped>\n",
       "    .dataframe tbody tr th:only-of-type {\n",
       "        vertical-align: middle;\n",
       "    }\n",
       "\n",
       "    .dataframe tbody tr th {\n",
       "        vertical-align: top;\n",
       "    }\n",
       "\n",
       "    .dataframe thead th {\n",
       "        text-align: right;\n",
       "    }\n",
       "</style>\n",
       "<table border=\"1\" class=\"dataframe\">\n",
       "  <thead>\n",
       "    <tr style=\"text-align: right;\">\n",
       "      <th></th>\n",
       "      <th>date</th>\n",
       "      <th>worldwide</th>\n",
       "      <th>unitedstates</th>\n",
       "      <th>Germany</th>\n",
       "      <th>UAE</th>\n",
       "      <th>Dubai</th>\n",
       "    </tr>\n",
       "  </thead>\n",
       "  <tbody>\n",
       "    <tr>\n",
       "      <th>0</th>\n",
       "      <td>2004-01-01</td>\n",
       "      <td>1</td>\n",
       "      <td>0</td>\n",
       "      <td>3</td>\n",
       "      <td>0</td>\n",
       "      <td>0</td>\n",
       "    </tr>\n",
       "    <tr>\n",
       "      <th>1</th>\n",
       "      <td>2004-02-01</td>\n",
       "      <td>1</td>\n",
       "      <td>0</td>\n",
       "      <td>2</td>\n",
       "      <td>0</td>\n",
       "      <td>0</td>\n",
       "    </tr>\n",
       "    <tr>\n",
       "      <th>2</th>\n",
       "      <td>2004-03-01</td>\n",
       "      <td>1</td>\n",
       "      <td>0</td>\n",
       "      <td>2</td>\n",
       "      <td>0</td>\n",
       "      <td>0</td>\n",
       "    </tr>\n",
       "    <tr>\n",
       "      <th>3</th>\n",
       "      <td>2004-04-01</td>\n",
       "      <td>1</td>\n",
       "      <td>0</td>\n",
       "      <td>1</td>\n",
       "      <td>0</td>\n",
       "      <td>0</td>\n",
       "    </tr>\n",
       "    <tr>\n",
       "      <th>4</th>\n",
       "      <td>2004-05-01</td>\n",
       "      <td>1</td>\n",
       "      <td>0</td>\n",
       "      <td>1</td>\n",
       "      <td>0</td>\n",
       "      <td>0</td>\n",
       "    </tr>\n",
       "  </tbody>\n",
       "</table>\n",
       "</div>"
      ],
      "text/plain": [
       "        date  worldwide  unitedstates  Germany  UAE  Dubai\n",
       "0 2004-01-01          1             0        3    0      0\n",
       "1 2004-02-01          1             0        2    0      0\n",
       "2 2004-03-01          1             0        2    0      0\n",
       "3 2004-04-01          1             0        1    0      0\n",
       "4 2004-05-01          1             0        1    0      0"
      ]
     },
     "execution_count": 233,
     "metadata": {},
     "output_type": "execute_result"
    }
   ],
   "source": [
    "df_google.head()"
   ]
  },
  {
   "cell_type": "code",
   "execution_count": 234,
   "metadata": {},
   "outputs": [],
   "source": [
    "def days_in_month(year, month_num):\n",
    "  \"\"\"\n",
    "  This function takes a year and month number as input and returns the number of days in that month.\n",
    "\n",
    "  Args:\n",
    "      year (int): The year (e.g., 2024).\n",
    "      month_num (int): The number of the month (1-12).\n",
    "\n",
    "  Returns:\n",
    "      int: The number of days in the specified month.\n",
    "  \"\"\"\n",
    "\n",
    "  # Check for invalid month numbers\n",
    "  if month_num < 1 or month_num > 12:\n",
    "    raise ValueError(\"Invalid month number. Please enter a value between 1 and 12.\")\n",
    "\n",
    "  # Create a list with days in each month (considering leap years)\n",
    "  days_in_month_list = [31, 28, 31, 30, 31, 30, 31, 31, 30, 31, 30, 31]\n",
    "\n",
    "  # Handle February for leap years\n",
    "  if month_num == 2 and ((year % 4 == 0 and year % 100 != 0) or year % 400 == 0):\n",
    "    days_in_month_list[1] = 29  # Adjust for leap year\n",
    "\n",
    "  return days_in_month_list[month_num - 1]\n"
   ]
  },
  {
   "cell_type": "code",
   "execution_count": 235,
   "metadata": {},
   "outputs": [
    {
     "name": "stdout",
     "output_type": "stream",
     "text": [
      "7457\n",
      "7457\n"
     ]
    }
   ],
   "source": [
    "temp_new_df = []\n",
    "for i in df_google['date']:\n",
    "    temp = df_google[df_google['date'] == i].values\n",
    "    # print(temp[0][1:])\n",
    "    for j in range(1,days_in_month(i.year, i.month)+1):\n",
    "        temp_new_df.append([j, *temp[0][1:]])\n",
    "print(len(temp_new_df))    \n",
    "date = pd.date_range(df_google['date'][0],periods=len(temp_new_df))\n",
    "print(len(date))\n",
    "   \n",
    "df_new_google = pd.DataFrame([pd.to_datetime(i).date() for i in date], columns=['date'])\n",
    "df_new_google[['worldwide', 'unitedstates', 'Germany', 'UAE', 'Dubai']] = 0\n",
    "\n",
    "temp_new_df = pd.DataFrame(temp_new_df,columns=['date','worldwide', 'unitedstates', 'Germany', 'UAE', 'Dubai'])\n",
    "\n",
    "temp_new_df['date'] = df_new_google['date']\n",
    "df_google_new = temp_new_df"
   ]
  },
  {
   "cell_type": "code",
   "execution_count": 236,
   "metadata": {},
   "outputs": [
    {
     "name": "stdout",
     "output_type": "stream",
     "text": [
      "         date  worldwide  unitedstates  Germany  UAE  Dubai\n",
      "0  2004-01-01          1             0        3    0      0\n",
      "1  2004-01-02          1             0        3    0      0\n",
      "2  2004-01-03          1             0        3    0      0\n",
      "3  2004-01-04          1             0        3    0      0\n",
      "4  2004-01-05          1             0        3    0      0\n",
      "            date  worldwide  unitedstates  Germany  UAE  Dubai\n",
      "7452  2024-05-27         30            19       46   25     25\n",
      "7453  2024-05-28         30            19       46   25     25\n",
      "7454  2024-05-29         30            19       46   25     25\n",
      "7455  2024-05-30         30            19       46   25     25\n",
      "7456  2024-05-31         30            19       46   25     25\n"
     ]
    }
   ],
   "source": [
    "print(df_google_new.head())\n",
    "print(df_google_new.tail())"
   ]
  },
  {
   "cell_type": "code",
   "execution_count": 237,
   "metadata": {},
   "outputs": [
    {
     "data": {
      "text/plain": [
       "date            2024-05-31\n",
       "worldwide              100\n",
       "unitedstates           100\n",
       "Germany                100\n",
       "UAE                    100\n",
       "Dubai                  100\n",
       "dtype: object"
      ]
     },
     "execution_count": 237,
     "metadata": {},
     "output_type": "execute_result"
    }
   ],
   "source": [
    "df_google_new.max()"
   ]
  },
  {
   "cell_type": "markdown",
   "metadata": {},
   "source": [
    "Fail way"
   ]
  },
  {
   "cell_type": "code",
   "execution_count": 238,
   "metadata": {},
   "outputs": [],
   "source": [
    "# df_new_google = pd.DataFrame([pd.to_datetime(i).date() for i in date], columns=['date'])\n",
    "# df_new_google[['worldwide', 'unitedstates', 'Germany', 'UAE', 'Dubai']] =0\n",
    "# df_new_google.head(2)\n",
    "\n",
    "# import pandas as pd\n",
    "# #### lookup the values\n",
    "# df = df_new_google\n",
    "# lookup_df = df_google\n",
    "# lookup_df ['date'] = [pd.to_datetime(i).date() + pd.DateOffset(days = 0) for i in lookup_df ['date']]\n",
    "# lookup_df = lookup_df.set_index('date')\n",
    "# df['worldwide'] = df['date'].map(lookup_df['worldwide'])\n",
    "\n",
    "# dic = []\n",
    "# for i in df['worldwide']:\n",
    "#     if pd.isna(i) == False:\n",
    "        \n",
    "#         dic.append([df.index[df['worldwide'] == i],i])\n",
    "    \n",
    "    \n",
    "# # df['worldwide'].iloc[range()] = 5\n",
    "\n",
    "\n",
    "\n",
    "# # for i,ind in zip(df['worldwide'],range(0,len(df))):\n",
    "# #     temp = 0\n",
    "# #     if pd.isna(i):\n",
    "# #         df.iloc[[ind],'worldwide'] = i\n",
    "# #     else : \n",
    "# #         temp = i\n",
    "# dic[2]\n",
    "\n",
    "\n",
    "\n",
    "# ori_m = [pd.to_datetime(i).date() for i in df_google['date']]\n",
    "\n",
    "# print(pd.to_datetime(df_new_google['date'][0]).date() == ori_m[0])\n",
    "# for m in ori_m:\n",
    "#     while True:\n",
    "#         if m == "
   ]
  },
  {
   "cell_type": "code",
   "execution_count": 239,
   "metadata": {},
   "outputs": [
    {
     "name": "stdout",
     "output_type": "stream",
     "text": [
      "2017-10-02\n",
      "2024-05-15\n"
     ]
    }
   ],
   "source": [
    "print(df_prices['date'].min())\n",
    "print(df_prices['date'].max())"
   ]
  },
  {
   "cell_type": "code",
   "execution_count": 240,
   "metadata": {},
   "outputs": [],
   "source": [
    "temp_min = df_prices['date'].min()\n",
    "temp_max = df_prices['date'].max()\n",
    "\n",
    "\n",
    "temp_start = df_google_new.iloc[df_google_new.index[df_google_new['date'] == pd.to_datetime(temp_min).date()]]\n",
    "temp_end = df_google_new.iloc[df_google_new.index[df_google_new['date'] == pd.to_datetime(temp_max).date()]]\n",
    "\n",
    "\n",
    "df_google_new = df_google_new.iloc[temp_start.index.values[0] : temp_end.index.values[0]+1]\n",
    "df_google_new.reset_index(drop = True, inplace = True)\n"
   ]
  },
  {
   "cell_type": "code",
   "execution_count": 241,
   "metadata": {},
   "outputs": [
    {
     "name": "stdout",
     "output_type": "stream",
     "text": [
      "         date  worldwide  unitedstates  Germany  UAE  Dubai\n",
      "0  2017-10-02         24            17       23   23     24\n",
      "1  2017-10-03         24            17       23   23     24\n",
      "2  2017-10-04         24            17       23   23     24\n",
      "3  2017-10-05         24            17       23   23     24\n",
      "4  2017-10-06         24            17       23   23     24"
     ]
    },
    {
     "name": "stdout",
     "output_type": "stream",
     "text": [
      "\n",
      "            date  worldwide  unitedstates  Germany  UAE  Dubai\n",
      "2413  2024-05-11         30            19       46   25     25\n",
      "2414  2024-05-12         30            19       46   25     25\n",
      "2415  2024-05-13         30            19       46   25     25\n",
      "2416  2024-05-14         30            19       46   25     25\n",
      "2417  2024-05-15         30            19       46   25     25\n",
      "         date     btc_high  ada_high  bnb_high    eth_high  sol_high  xrp_high\n",
      "0  2017-10-02  4446.342068  0.030088   1.98287  301.084757       0.0  0.206464\n",
      "1  2017-10-03  4466.306182  0.027172   2.03295  299.042274       0.0  0.204199\n",
      "2  2017-10-04  4337.574576  0.022962   1.85747  295.132972       0.0  0.217585\n",
      "3  2017-10-05  4348.467992  0.022245   1.73519  296.608512       0.0  0.240870\n",
      "4  2017-10-06  4392.401416  0.021576   1.71358  307.934787       0.0  0.242474\n",
      "            date  btc_high  ada_high  bnb_high   eth_high  sol_high  xrp_high\n",
      "2413  2024-05-11  61391.96  0.450802  594.6376  2942.2771  147.4857  0.508342\n",
      "2414  2024-05-12  61763.99  0.442977  599.6078  2957.4820  147.5651  0.509656\n",
      "2415  2024-05-13  63332.96  0.452807  598.2587  2991.1717  150.0654  0.511454\n",
      "2416  2024-05-14  63053.02  0.438039  592.9579  2962.4673  148.9396  0.509955\n",
      "2417  2024-05-15  66390.00  0.454413  587.6572  3040.3976  158.5516  0.519989\n"
     ]
    }
   ],
   "source": [
    "print(df_google_new.head())\n",
    "print(df_google_new.tail())\n",
    "print(df_prices.head())\n",
    "print(df_prices.tail())"
   ]
  },
  {
   "cell_type": "code",
   "execution_count": 242,
   "metadata": {},
   "outputs": [
    {
     "name": "stdout",
     "output_type": "stream",
     "text": [
      "<class 'pandas.core.frame.DataFrame'>\n",
      "RangeIndex: 2418 entries, 0 to 2417\n",
      "Data columns (total 12 columns):\n",
      " #   Column        Non-Null Count  Dtype  \n",
      "---  ------        --------------  -----  \n",
      " 0   date          2418 non-null   object \n",
      " 1   btc_high      2418 non-null   float64\n",
      " 2   ada_high      2418 non-null   float64\n",
      " 3   bnb_high      2418 non-null   float64\n",
      " 4   eth_high      2418 non-null   float64\n",
      " 5   sol_high      2418 non-null   float64\n",
      " 6   xrp_high      2418 non-null   float64\n",
      " 7   worldwide     2418 non-null   int64  \n",
      " 8   unitedstates  2418 non-null   int64  \n",
      " 9   Germany       2418 non-null   int64  \n",
      " 10  UAE           2418 non-null   int64  \n",
      " 11  Dubai         2418 non-null   int64  \n",
      "dtypes: float64(6), int64(5), object(1)\n",
      "memory usage: 226.8+ KB\n"
     ]
    },
    {
     "data": {
      "text/html": [
       "<div>\n",
       "<style scoped>\n",
       "    .dataframe tbody tr th:only-of-type {\n",
       "        vertical-align: middle;\n",
       "    }\n",
       "\n",
       "    .dataframe tbody tr th {\n",
       "        vertical-align: top;\n",
       "    }\n",
       "\n",
       "    .dataframe thead th {\n",
       "        text-align: right;\n",
       "    }\n",
       "</style>\n",
       "<table border=\"1\" class=\"dataframe\">\n",
       "  <thead>\n",
       "    <tr style=\"text-align: right;\">\n",
       "      <th></th>\n",
       "      <th>date</th>\n",
       "      <th>btc_high</th>\n",
       "      <th>ada_high</th>\n",
       "      <th>bnb_high</th>\n",
       "      <th>eth_high</th>\n",
       "      <th>sol_high</th>\n",
       "      <th>xrp_high</th>\n",
       "      <th>worldwide</th>\n",
       "      <th>unitedstates</th>\n",
       "      <th>Germany</th>\n",
       "      <th>UAE</th>\n",
       "      <th>Dubai</th>\n",
       "    </tr>\n",
       "  </thead>\n",
       "  <tbody>\n",
       "    <tr>\n",
       "      <th>0</th>\n",
       "      <td>2017-10-02</td>\n",
       "      <td>4446.342068</td>\n",
       "      <td>0.030088</td>\n",
       "      <td>1.98287</td>\n",
       "      <td>301.084757</td>\n",
       "      <td>0.0000</td>\n",
       "      <td>0.206464</td>\n",
       "      <td>24</td>\n",
       "      <td>17</td>\n",
       "      <td>23</td>\n",
       "      <td>23</td>\n",
       "      <td>24</td>\n",
       "    </tr>\n",
       "    <tr>\n",
       "      <th>1</th>\n",
       "      <td>2017-10-03</td>\n",
       "      <td>4466.306182</td>\n",
       "      <td>0.027172</td>\n",
       "      <td>2.03295</td>\n",
       "      <td>299.042274</td>\n",
       "      <td>0.0000</td>\n",
       "      <td>0.204199</td>\n",
       "      <td>24</td>\n",
       "      <td>17</td>\n",
       "      <td>23</td>\n",
       "      <td>23</td>\n",
       "      <td>24</td>\n",
       "    </tr>\n",
       "    <tr>\n",
       "      <th>2</th>\n",
       "      <td>2017-10-04</td>\n",
       "      <td>4337.574576</td>\n",
       "      <td>0.022962</td>\n",
       "      <td>1.85747</td>\n",
       "      <td>295.132972</td>\n",
       "      <td>0.0000</td>\n",
       "      <td>0.217585</td>\n",
       "      <td>24</td>\n",
       "      <td>17</td>\n",
       "      <td>23</td>\n",
       "      <td>23</td>\n",
       "      <td>24</td>\n",
       "    </tr>\n",
       "    <tr>\n",
       "      <th>3</th>\n",
       "      <td>2017-10-05</td>\n",
       "      <td>4348.467992</td>\n",
       "      <td>0.022245</td>\n",
       "      <td>1.73519</td>\n",
       "      <td>296.608512</td>\n",
       "      <td>0.0000</td>\n",
       "      <td>0.240870</td>\n",
       "      <td>24</td>\n",
       "      <td>17</td>\n",
       "      <td>23</td>\n",
       "      <td>23</td>\n",
       "      <td>24</td>\n",
       "    </tr>\n",
       "    <tr>\n",
       "      <th>4</th>\n",
       "      <td>2017-10-06</td>\n",
       "      <td>4392.401416</td>\n",
       "      <td>0.021576</td>\n",
       "      <td>1.71358</td>\n",
       "      <td>307.934787</td>\n",
       "      <td>0.0000</td>\n",
       "      <td>0.242474</td>\n",
       "      <td>24</td>\n",
       "      <td>17</td>\n",
       "      <td>23</td>\n",
       "      <td>23</td>\n",
       "      <td>24</td>\n",
       "    </tr>\n",
       "    <tr>\n",
       "      <th>...</th>\n",
       "      <td>...</td>\n",
       "      <td>...</td>\n",
       "      <td>...</td>\n",
       "      <td>...</td>\n",
       "      <td>...</td>\n",
       "      <td>...</td>\n",
       "      <td>...</td>\n",
       "      <td>...</td>\n",
       "      <td>...</td>\n",
       "      <td>...</td>\n",
       "      <td>...</td>\n",
       "      <td>...</td>\n",
       "    </tr>\n",
       "    <tr>\n",
       "      <th>2413</th>\n",
       "      <td>2024-05-11</td>\n",
       "      <td>61391.960000</td>\n",
       "      <td>0.450802</td>\n",
       "      <td>594.63760</td>\n",
       "      <td>2942.277100</td>\n",
       "      <td>147.4857</td>\n",
       "      <td>0.508342</td>\n",
       "      <td>30</td>\n",
       "      <td>19</td>\n",
       "      <td>46</td>\n",
       "      <td>25</td>\n",
       "      <td>25</td>\n",
       "    </tr>\n",
       "    <tr>\n",
       "      <th>2414</th>\n",
       "      <td>2024-05-12</td>\n",
       "      <td>61763.990000</td>\n",
       "      <td>0.442977</td>\n",
       "      <td>599.60780</td>\n",
       "      <td>2957.482000</td>\n",
       "      <td>147.5651</td>\n",
       "      <td>0.509656</td>\n",
       "      <td>30</td>\n",
       "      <td>19</td>\n",
       "      <td>46</td>\n",
       "      <td>25</td>\n",
       "      <td>25</td>\n",
       "    </tr>\n",
       "    <tr>\n",
       "      <th>2415</th>\n",
       "      <td>2024-05-13</td>\n",
       "      <td>63332.960000</td>\n",
       "      <td>0.452807</td>\n",
       "      <td>598.25870</td>\n",
       "      <td>2991.171700</td>\n",
       "      <td>150.0654</td>\n",
       "      <td>0.511454</td>\n",
       "      <td>30</td>\n",
       "      <td>19</td>\n",
       "      <td>46</td>\n",
       "      <td>25</td>\n",
       "      <td>25</td>\n",
       "    </tr>\n",
       "    <tr>\n",
       "      <th>2416</th>\n",
       "      <td>2024-05-14</td>\n",
       "      <td>63053.020000</td>\n",
       "      <td>0.438039</td>\n",
       "      <td>592.95790</td>\n",
       "      <td>2962.467300</td>\n",
       "      <td>148.9396</td>\n",
       "      <td>0.509955</td>\n",
       "      <td>30</td>\n",
       "      <td>19</td>\n",
       "      <td>46</td>\n",
       "      <td>25</td>\n",
       "      <td>25</td>\n",
       "    </tr>\n",
       "    <tr>\n",
       "      <th>2417</th>\n",
       "      <td>2024-05-15</td>\n",
       "      <td>66390.000000</td>\n",
       "      <td>0.454413</td>\n",
       "      <td>587.65720</td>\n",
       "      <td>3040.397600</td>\n",
       "      <td>158.5516</td>\n",
       "      <td>0.519989</td>\n",
       "      <td>30</td>\n",
       "      <td>19</td>\n",
       "      <td>46</td>\n",
       "      <td>25</td>\n",
       "      <td>25</td>\n",
       "    </tr>\n",
       "  </tbody>\n",
       "</table>\n",
       "<p>2418 rows × 12 columns</p>\n",
       "</div>"
      ],
      "text/plain": [
       "            date      btc_high  ada_high   bnb_high     eth_high  sol_high   \n",
       "0     2017-10-02   4446.342068  0.030088    1.98287   301.084757    0.0000  \\\n",
       "1     2017-10-03   4466.306182  0.027172    2.03295   299.042274    0.0000   \n",
       "2     2017-10-04   4337.574576  0.022962    1.85747   295.132972    0.0000   \n",
       "3     2017-10-05   4348.467992  0.022245    1.73519   296.608512    0.0000   \n",
       "4     2017-10-06   4392.401416  0.021576    1.71358   307.934787    0.0000   \n",
       "...          ...           ...       ...        ...          ...       ...   \n",
       "2413  2024-05-11  61391.960000  0.450802  594.63760  2942.277100  147.4857   \n",
       "2414  2024-05-12  61763.990000  0.442977  599.60780  2957.482000  147.5651   \n",
       "2415  2024-05-13  63332.960000  0.452807  598.25870  2991.171700  150.0654   \n",
       "2416  2024-05-14  63053.020000  0.438039  592.95790  2962.467300  148.9396   \n",
       "2417  2024-05-15  66390.000000  0.454413  587.65720  3040.397600  158.5516   \n",
       "\n",
       "      xrp_high  worldwide  unitedstates  Germany  UAE  Dubai  \n",
       "0     0.206464         24            17       23   23     24  \n",
       "1     0.204199         24            17       23   23     24  \n",
       "2     0.217585         24            17       23   23     24  \n",
       "3     0.240870         24            17       23   23     24  \n",
       "4     0.242474         24            17       23   23     24  \n",
       "...        ...        ...           ...      ...  ...    ...  \n",
       "2413  0.508342         30            19       46   25     25  \n",
       "2414  0.509656         30            19       46   25     25  \n",
       "2415  0.511454         30            19       46   25     25  \n",
       "2416  0.509955         30            19       46   25     25  \n",
       "2417  0.519989         30            19       46   25     25  \n",
       "\n",
       "[2418 rows x 12 columns]"
      ]
     },
     "execution_count": 242,
     "metadata": {},
     "output_type": "execute_result"
    }
   ],
   "source": [
    "full_df = df_prices[df_prices.columns]\n",
    "full_df[df_google_new.columns] = df_google_new[df_google_new.columns]\n",
    "full_df.info()\n",
    "full_df"
   ]
  },
  {
   "cell_type": "code",
   "execution_count": 243,
   "metadata": {},
   "outputs": [],
   "source": [
    "epoch = pd.Timestamp(\"1970-01-01\")\n",
    "full_df['date'] = [(pd.to_datetime(i) - epoch).total_seconds() for i in full_df['date']]\n"
   ]
  },
  {
   "cell_type": "code",
   "execution_count": 244,
   "metadata": {},
   "outputs": [
    {
     "name": "stdout",
     "output_type": "stream",
     "text": [
      "Index(['date', 'ada_high', 'bnb_high', 'eth_high', 'sol_high', 'xrp_high',\n",
      "       'worldwide', 'unitedstates', 'Germany', 'UAE', 'Dubai'],\n",
      "      dtype='object')\n"
     ]
    }
   ],
   "source": [
    "from sklearn.preprocessing import StandardScaler\n",
    "scaler = StandardScaler()\n",
    "features = full_df.columns[0:1].append(full_df.columns[2:])\n",
    "print(features)\n",
    "\n",
    "scaled_full_df = pd.DataFrame(scaler.fit_transform(full_df[features].astype(int)),columns = features)\n",
    "scaled_full_df[full_df.columns[7:]] = full_df[full_df.columns[7:]]"
   ]
  },
  {
   "cell_type": "code",
   "execution_count": 245,
   "metadata": {},
   "outputs": [
    {
     "name": "stdout",
     "output_type": "stream",
     "text": [
      "date            -1.731335\n",
      "ada_high        -0.410339\n",
      "bnb_high        -0.968610\n",
      "eth_high        -1.065293\n",
      "sol_high        -0.623340\n",
      "xrp_high        -0.296605\n",
      "worldwide        9.000000\n",
      "unitedstates     6.000000\n",
      "Germany         10.000000\n",
      "UAE              8.000000\n",
      "Dubai            8.000000\n",
      "dtype: float64\n",
      "date              1.731335\n",
      "ada_high          5.590870\n",
      "bnb_high          2.666843\n",
      "eth_high          2.930182\n",
      "sol_high          4.121119\n",
      "xrp_high          8.485317\n",
      "worldwide       100.000000\n",
      "unitedstates    100.000000\n",
      "Germany         100.000000\n",
      "UAE             100.000000\n",
      "Dubai           100.000000\n",
      "dtype: float64\n"
     ]
    }
   ],
   "source": [
    "print(scaled_full_df.min())\n",
    "print(scaled_full_df.max())\n"
   ]
  },
  {
   "cell_type": "code",
   "execution_count": 246,
   "metadata": {},
   "outputs": [
    {
     "name": "stdout",
     "output_type": "stream",
     "text": [
      "Index(['date', 'ada_high', 'bnb_high', 'eth_high', 'sol_high', 'xrp_high',\n",
      "       'worldwide', 'unitedstates', 'Germany', 'UAE', 'Dubai'],\n",
      "      dtype='object')\n",
      "Index(['date', 'btc_high', 'ada_high', 'bnb_high', 'eth_high', 'sol_high',\n",
      "       'xrp_high', 'worldwide', 'unitedstates', 'Germany', 'UAE', 'Dubai'],\n",
      "      dtype='object')\n"
     ]
    }
   ],
   "source": [
    "print(scaled_full_df.columns)\n",
    "print(full_df.columns)"
   ]
  },
  {
   "cell_type": "code",
   "execution_count": 247,
   "metadata": {},
   "outputs": [
    {
     "data": {
      "text/html": [
       "<div>\n",
       "<style scoped>\n",
       "    .dataframe tbody tr th:only-of-type {\n",
       "        vertical-align: middle;\n",
       "    }\n",
       "\n",
       "    .dataframe tbody tr th {\n",
       "        vertical-align: top;\n",
       "    }\n",
       "\n",
       "    .dataframe thead th {\n",
       "        text-align: right;\n",
       "    }\n",
       "</style>\n",
       "<table border=\"1\" class=\"dataframe\">\n",
       "  <thead>\n",
       "    <tr style=\"text-align: right;\">\n",
       "      <th></th>\n",
       "      <th>date</th>\n",
       "      <th>ada_high</th>\n",
       "      <th>bnb_high</th>\n",
       "      <th>eth_high</th>\n",
       "      <th>sol_high</th>\n",
       "      <th>xrp_high</th>\n",
       "      <th>worldwide</th>\n",
       "      <th>unitedstates</th>\n",
       "      <th>Germany</th>\n",
       "      <th>UAE</th>\n",
       "      <th>Dubai</th>\n",
       "    </tr>\n",
       "  </thead>\n",
       "  <tbody>\n",
       "    <tr>\n",
       "      <th>0</th>\n",
       "      <td>-1.731335</td>\n",
       "      <td>-0.410339</td>\n",
       "      <td>-0.968610</td>\n",
       "      <td>-0.884820</td>\n",
       "      <td>-0.62334</td>\n",
       "      <td>-0.296605</td>\n",
       "      <td>24</td>\n",
       "      <td>17</td>\n",
       "      <td>23</td>\n",
       "      <td>23</td>\n",
       "      <td>24</td>\n",
       "    </tr>\n",
       "    <tr>\n",
       "      <th>1</th>\n",
       "      <td>-1.729902</td>\n",
       "      <td>-0.410339</td>\n",
       "      <td>-0.963325</td>\n",
       "      <td>-0.886491</td>\n",
       "      <td>-0.62334</td>\n",
       "      <td>-0.296605</td>\n",
       "      <td>24</td>\n",
       "      <td>17</td>\n",
       "      <td>23</td>\n",
       "      <td>23</td>\n",
       "      <td>24</td>\n",
       "    </tr>\n",
       "    <tr>\n",
       "      <th>2</th>\n",
       "      <td>-1.728469</td>\n",
       "      <td>-0.410339</td>\n",
       "      <td>-0.968610</td>\n",
       "      <td>-0.889833</td>\n",
       "      <td>-0.62334</td>\n",
       "      <td>-0.296605</td>\n",
       "      <td>24</td>\n",
       "      <td>17</td>\n",
       "      <td>23</td>\n",
       "      <td>23</td>\n",
       "      <td>24</td>\n",
       "    </tr>\n",
       "    <tr>\n",
       "      <th>3</th>\n",
       "      <td>-1.727037</td>\n",
       "      <td>-0.410339</td>\n",
       "      <td>-0.968610</td>\n",
       "      <td>-0.888997</td>\n",
       "      <td>-0.62334</td>\n",
       "      <td>-0.296605</td>\n",
       "      <td>24</td>\n",
       "      <td>17</td>\n",
       "      <td>23</td>\n",
       "      <td>23</td>\n",
       "      <td>24</td>\n",
       "    </tr>\n",
       "    <tr>\n",
       "      <th>4</th>\n",
       "      <td>-1.725604</td>\n",
       "      <td>-0.410339</td>\n",
       "      <td>-0.968610</td>\n",
       "      <td>-0.879807</td>\n",
       "      <td>-0.62334</td>\n",
       "      <td>-0.296605</td>\n",
       "      <td>24</td>\n",
       "      <td>17</td>\n",
       "      <td>23</td>\n",
       "      <td>23</td>\n",
       "      <td>24</td>\n",
       "    </tr>\n",
       "  </tbody>\n",
       "</table>\n",
       "</div>"
      ],
      "text/plain": [
       "       date  ada_high  bnb_high  eth_high  sol_high  xrp_high  worldwide   \n",
       "0 -1.731335 -0.410339 -0.968610 -0.884820  -0.62334 -0.296605         24  \\\n",
       "1 -1.729902 -0.410339 -0.963325 -0.886491  -0.62334 -0.296605         24   \n",
       "2 -1.728469 -0.410339 -0.968610 -0.889833  -0.62334 -0.296605         24   \n",
       "3 -1.727037 -0.410339 -0.968610 -0.888997  -0.62334 -0.296605         24   \n",
       "4 -1.725604 -0.410339 -0.968610 -0.879807  -0.62334 -0.296605         24   \n",
       "\n",
       "   unitedstates  Germany  UAE  Dubai  \n",
       "0            17       23   23     24  \n",
       "1            17       23   23     24  \n",
       "2            17       23   23     24  \n",
       "3            17       23   23     24  \n",
       "4            17       23   23     24  "
      ]
     },
     "execution_count": 247,
     "metadata": {},
     "output_type": "execute_result"
    }
   ],
   "source": [
    "scaled_full_df.head()"
   ]
  },
  {
   "cell_type": "code",
   "execution_count": 248,
   "metadata": {},
   "outputs": [
    {
     "name": "stdout",
     "output_type": "stream",
     "text": [
      "          date  ada_high  bnb_high  eth_high  sol_high  xrp_high  worldwide   \n",
      "0    -1.731335 -0.410339 -0.968610 -0.884820 -0.623340 -0.296605         24  \\\n",
      "1    -1.729902 -0.410339 -0.963325 -0.886491 -0.623340 -0.296605         24   \n",
      "2    -1.728469 -0.410339 -0.968610 -0.889833 -0.623340 -0.296605         24   \n",
      "3    -1.727037 -0.410339 -0.968610 -0.888997 -0.623340 -0.296605         24   \n",
      "4    -1.725604 -0.410339 -0.968610 -0.879807 -0.623340 -0.296605         24   \n",
      "...        ...       ...       ...       ...       ...       ...        ...   \n",
      "2413  1.725604 -0.410339  2.164854  1.321799  2.069461 -0.296605         30   \n",
      "2414  1.727037 -0.410339  2.191275  1.334331  2.069461 -0.296605         30   \n",
      "2415  1.728469 -0.410339  2.185991  1.362739  2.124416 -0.296605         30   \n",
      "2416  1.729902 -0.410339  2.154286  1.338509  2.087779 -0.296605         30   \n",
      "2417  1.731335 -0.410339  2.127866  1.403680  2.270963 -0.296605         30   \n",
      "\n",
      "      unitedstates  Germany  UAE  Dubai  \n",
      "0               17       23   23     24  \n",
      "1               17       23   23     24  \n",
      "2               17       23   23     24  \n",
      "3               17       23   23     24  \n",
      "4               17       23   23     24  \n",
      "...            ...      ...  ...    ...  \n",
      "2413            19       46   25     25  \n",
      "2414            19       46   25     25  \n",
      "2415            19       46   25     25  \n",
      "2416            19       46   25     25  \n",
      "2417            19       46   25     25  \n",
      "\n",
      "[2418 rows x 11 columns]\n",
      "Root Mean Squared Error (RMSE): 616.066316694584\n",
      "Root Mean Squared Error (RMSE): 616.066316694584 o_+\n"
     ]
    }
   ],
   "source": [
    "features = scaled_full_df.columns\n",
    "target = df_prices['btc_high']\n",
    "train = scaled_full_df[features]\n",
    "print(train)\n",
    "\n",
    "# features = scaled_full_df.columns\n",
    "# target = df_prices['btc_high']\n",
    "# train = pd.concat([full_df['date'], scaled_full_df[features]], keys = ['date', scaled_full_df.columns])\n",
    "\n",
    "x_train, x_test, y_train, y_test = train_test_split(train, target, shuffle=True, train_size=0.8)\n",
    "\n",
    "import math\n",
    "model = XGBRegressor(n_estimators = 100,learning_rate=0.1, max_depth=10)\n",
    "model.fit(x_train, y_train)\n",
    "y_pred = model.predict(x_test)\n",
    "rmse = mean_squared_error(y_test, y_pred, squared=False)\n",
    "mse = mean_squared_error(y_test, y_pred, squared=True)\n",
    "print(f\"Root Mean Squared Error (RMSE): {rmse}\")\n",
    "print(f\"Root Mean Squared Error (RMSE): {math.pow(mse,0.5)} o_+\") \n",
    "\n",
    "# from sklearn.metrics import mean_squared_error, r2_score, mean_absolute_error\n",
    "# y_true = # Your actual target values\n",
    "# mse = mean_squared_error(y_true, y_pred)\n",
    "# rmse = np.sqrt(mse)\n",
    "# r2 = r2_score(y_true, y_pred)\n",
    "# mae = mean_absolute_error(y_true, y_pred)"
   ]
  },
  {
   "cell_type": "markdown",
   "metadata": {},
   "source": [
    "### This are the predicted values with the real values"
   ]
  },
  {
   "cell_type": "code",
   "execution_count": 249,
   "metadata": {},
   "outputs": [
    {
     "data": {
      "image/png": "[encoded data removed]",
      "text/plain": [
       "<Figure size 1000x300 with 1 Axes>"
      ]
     },
     "metadata": {},
     "output_type": "display_data"
    }
   ],
   "source": [
    "import matplotlib.pyplot as plt\n",
    "plt.figure(figsize=(10,3))\n",
    "plt.plot(full_df.index[x_test.index], y_pred, 'g.',full_df.index[x_test.index], y_test, 'r.')\n",
    "plt.show()"
   ]
  },
  {
   "cell_type": "code",
   "execution_count": 250,
   "metadata": {},
   "outputs": [],
   "source": [
    "import pickle\n",
    "with open('Model/btc_price_model.pkl', 'wb') as f:\n",
    "    pickle.dump(model, f)\n",
    "with open('Model/scaler_btc_mode.pkl', 'wb') as f:\n",
    "    pickle.dump(scaler, f)"
   ]
  },
  {
   "cell_type": "code",
   "execution_count": 251,
   "metadata": {},
   "outputs": [
    {
     "name": "stdout",
     "output_type": "stream",
     "text": [
      "[4439.994]\n"
     ]
    },
    {
     "data": {
      "text/plain": [
       "0    4446.342068\n",
       "Name: btc_high, dtype: float64"
      ]
     },
     "execution_count": 251,
     "metadata": {},
     "output_type": "execute_result"
    }
   ],
   "source": [
    "with open('Model/btc_price_model.pkl', 'rb') as f:\n",
    "    model = pickle.load(f)\n",
    "with open('Model/scaler_btc_mode.pkl', 'rb') as f:\n",
    "    scaler = pickle.load(f)\n",
    "    \n",
    "print(model.predict(train.head(1).values))\n",
    "target.head(1)"
   ]
  },
  {
   "cell_type": "markdown",
   "metadata": {},
   "source": [
    "### Perfecto o_^"
   ]
  }
 ],
 "metadata": {
  "kernelspec": {
   "display_name": "Python 3",
   "language": "python",
   "name": "python3"
  },
  "language_info": {
   "codemirror_mode": {
    "name": "ipython",
    "version": 3
   },
   "file_extension": ".py",
   "mimetype": "text/x-python",
   "name": "python",
   "nbconvert_exporter": "python",
   "pygments_lexer": "ipython3",
   "version": "3.10.1"
  }
 },
 "nbformat": 4,
 "nbformat_minor": 2
}
